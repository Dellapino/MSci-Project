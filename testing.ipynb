{
 "cells": [
  {
   "cell_type": "code",
   "execution_count": 1,
   "metadata": {},
   "outputs": [
    {
     "name": "stdout",
     "output_type": "stream",
     "text": [
      "1.7.3\n",
      "2.7.1\n"
     ]
    }
   ],
   "source": [
    "import scipy as sp\n",
    "import networkx as nx\n",
    "\n",
    "print(sp.__version__)\n",
    "print(nx.__version__)"
   ]
  },
  {
   "cell_type": "code",
   "execution_count": 1,
   "metadata": {},
   "outputs": [],
   "source": [
    "def sub(x, y):\n",
    "    return x-y"
   ]
  },
  {
   "cell_type": "code",
   "execution_count": 37,
   "metadata": {},
   "outputs": [
    {
     "data": {
      "text/plain": [
       "[<matplotlib.lines.Line2D at 0x7f852064a2b0>]"
      ]
     },
     "execution_count": 37,
     "metadata": {},
     "output_type": "execute_result"
    },
    {
     "data": {
      "image/png": "[encoded data removed]",
      "text/plain": [
       "<Figure size 432x288 with 1 Axes>"
      ]
     },
     "metadata": {
      "needs_background": "light"
     },
     "output_type": "display_data"
    }
   ],
   "source": [
    "# Helpdesk\n",
    "\n",
    "import numpy as np\n",
    "import matplotlib.pyplot as plt\n",
    "\n",
    "\n",
    "def custom_arctan(w, w0, gamma, A):\n",
    "    f = A * np.arctan( (-gamma * w)/ ((w0**2) - (w**2)) )\n",
    "    f[f<0] = A * np.pi + f[f<0]\n",
    "    return f  \n",
    "\n",
    "start = 1.3e6 - 1e3\n",
    "end = 1.3e6 + 1e3\n",
    "x = np.arange(start,end, 0.01)\n",
    "\n",
    "y = custom_arctan(x, 1.3e6, -1e2, 1e1)\n",
    "plt.plot(x, y)"
   ]
  },
  {
   "cell_type": "code",
   "execution_count": 33,
   "metadata": {},
   "outputs": [
    {
     "name": "stderr",
     "output_type": "stream",
     "text": [
      "/var/folders/32/x1s5292x3ql29vds9pxmydb80000gp/T/ipykernel_58788/1784178206.py:27: UserWarning: FixedFormatter should only be used together with FixedLocator\n",
      "  ax.set_xticklabels(tick_labels)\n"
     ]
    },
    {
     "data": {
      "text/plain": [
       "[Text(0.0, 0, '2019'),\n",
       " Text(1.0, 0, '2020'),\n",
       " Text(2.0, 0, '2021'),\n",
       " Text(3.0, 0, '2022'),\n",
       " Text(4.0, 0, '2023'),\n",
       " Text(5.0, 0, '2024'),\n",
       " Text(6.0, 0, '2025'),\n",
       " Text(7.0, 0, '2026'),\n",
       " Text(8.0, 0, '')]"
      ]
     },
     "execution_count": 33,
     "metadata": {},
     "output_type": "execute_result"
    },
    {
     "data": {
      "image/png": "[encoded data removed]",
      "text/plain": [
       "<Figure size 432x288 with 1 Axes>"
      ]
     },
     "metadata": {
      "needs_background": "light"
     },
     "output_type": "display_data"
    }
   ],
   "source": [
    "# EfP quiz 6\n",
    "\n",
    "from scipy.optimize import curve_fit\n",
    "import matplotlib.pyplot as plt\n",
    "import numpy as np\n",
    "\n",
    "def func(x, a, b, c):\n",
    "    return a * np.exp(b*x) + c\n",
    "\n",
    "x_data = np.arange(1, 6, 1)\n",
    "y_data = [8, 9, 14, 25, 47]\n",
    "\n",
    "fit, cov = curve_fit(func, x_data, y_data)\n",
    "\n",
    "x_fit = np.arange(1, 8, 1)\n",
    "y_fit = func(x_fit, *fit)\n",
    "\n",
    "tick_labels = np.arange(2019, 2027, 1)\n",
    "\n",
    "f, ax = plt.subplots()\n",
    "\n",
    "ax.set_title('Total value of Generative AI companies')\n",
    "ax.plot(x_fit, y_fit, color = 'grey')\n",
    "ax.plot(x_data, y_data, 'o', color = 'b', label = 'data')\n",
    "ax.plot(x_fit[-2:], y_fit[-2:], 'o', color = 'r', label = 'extrapolation')\n",
    "ax.legend(loc = 'upper left')\n",
    "ax.set_xticklabels(tick_labels)\n"
   ]
  },
  {
   "cell_type": "code",
   "execution_count": 20,
   "metadata": {},
   "outputs": [
    {
     "data": {
      "text/plain": [
       "array([[ 0.05017032, -0.0115175 , -0.17544304],\n",
       "       [-0.0115175 ,  0.00266001,  0.0392585 ],\n",
       "       [-0.17544304,  0.0392585 ,  0.77142059]])"
      ]
     },
     "execution_count": 20,
     "metadata": {},
     "output_type": "execute_result"
    }
   ],
   "source": [
    "cov"
   ]
  },
  {
   "cell_type": "code",
   "execution_count": 19,
   "metadata": {},
   "outputs": [
    {
     "data": {
      "text/plain": [
       "array([  7.44179229,   9.58933122,  14.28996781,  24.57894743,\n",
       "        47.09996127,  96.3950404 , 204.29448235])"
      ]
     },
     "execution_count": 19,
     "metadata": {},
     "output_type": "execute_result"
    }
   ],
   "source": [
    "y_fit"
   ]
  }
 ],
 "metadata": {
  "kernelspec": {
   "display_name": "base",
   "language": "python",
   "name": "python3"
  },
  "language_info": {
   "codemirror_mode": {
    "name": "ipython",
    "version": 3
   },
   "file_extension": ".py",
   "mimetype": "text/x-python",
   "name": "python",
   "nbconvert_exporter": "python",
   "pygments_lexer": "ipython3",
   "version": "3.9.12"
  },
  "orig_nbformat": 4,
  "vscode": {
   "interpreter": {
    "hash": "25e1ce75cfb12f047913573b7bc7a98ece3d58460e313b6b0bb12faf016c0990"
   }
  }
 },
 "nbformat": 4,
 "nbformat_minor": 2
}
