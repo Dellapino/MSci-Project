{
 "cells": [
  {
   "cell_type": "code",
   "execution_count": 1,
   "metadata": {},
   "outputs": [],
   "source": [
    "import matplotlib.pyplot as plt\n",
    "import network_manipulation as nm\n",
    "import network_stats as ns\n",
    "import numpy as np\n",
    "\n",
    "dataset_paths = [\n",
    "'Sociopatterns datasets/conference_2009.dat_',\n",
    "'Sociopatterns datasets/highschool_2011.csv',\n",
    "'Sociopatterns datasets/highschool_2012.csv',\n",
    "'Sociopatterns datasets/highschool_2013.csv',\n",
    "'Sociopatterns datasets/hospital_2010.dat_',\n",
    "'Sociopatterns datasets/primaryschool_2014.csv',\n",
    "'Sociopatterns datasets/workplace_2013.dat',\n",
    "'Sociopatterns datasets/workplace_2015.dat_']\n",
    "\n",
    "dataset_names = [\n",
    "    'Conference 1', \n",
    "    'Highschool 1', \n",
    "    'Highschool 2', \n",
    "    'Highschool 3', \n",
    "    'Hospital 1', \n",
    "    'Primaryschool 1', \n",
    "    'Workplace 1', \n",
    "    'Workplace 2']"
   ]
  },
  {
   "cell_type": "code",
   "execution_count": 2,
   "metadata": {},
   "outputs": [],
   "source": [
    "G = nm.build_nxgraph(dataset_paths[1], True) # highschool 2013\n",
    "d, w = ns.analyse_graph(G)\n",
    "\n"
   ]
  },
  {
   "cell_type": "code",
   "execution_count": 3,
   "metadata": {},
   "outputs": [
    {
     "name": "stderr",
     "output_type": "stream",
     "text": [
      "/Users/ali/MSci Project/network_stats.py:100: RuntimeWarning: overflow encountered in power\n",
      "  return a * ((x)**b)\n",
      "/Users/ali/MSci Project/network_stats.py:146: RuntimeWarning: invalid value encountered in sqrt\n",
      "  err = np.sqrt(np.diag(cov))\n",
      "/Users/ali/opt/anaconda3/lib/python3.9/site-packages/scipy/optimize/minpack.py:833: OptimizeWarning: Covariance of the parameters could not be estimated\n",
      "  warnings.warn('Covariance of the parameters could not be estimated',\n",
      "/Users/ali/opt/anaconda3/lib/python3.9/site-packages/numpy/core/_methods.py:262: RuntimeWarning: Degrees of freedom <= 0 for slice\n",
      "  ret = _var(a, axis=axis, dtype=dtype, out=out, ddof=ddof,\n",
      "/Users/ali/opt/anaconda3/lib/python3.9/site-packages/numpy/core/_methods.py:222: RuntimeWarning: invalid value encountered in true_divide\n",
      "  arrmean = um.true_divide(arrmean, div, out=arrmean, casting='unsafe',\n",
      "/Users/ali/opt/anaconda3/lib/python3.9/site-packages/numpy/core/_methods.py:254: RuntimeWarning: invalid value encountered in double_scalars\n",
      "  ret = ret.dtype.type(ret / rcount)\n"
     ]
    },
    {
     "name": "stdout",
     "output_type": "stream",
     "text": [
      "  best scaling factor    best average error\n",
      "---------------------  --------------------\n",
      "                 1.14                 12.26\n"
     ]
    },
    {
     "data": {
      "image/png": "[encoded data removed]",
      "text/plain": [
       "<Figure size 432x288 with 1 Axes>"
      ]
     },
     "metadata": {
      "needs_background": "light"
     },
     "output_type": "display_data"
    }
   ],
   "source": [
    "func = ns.power\n",
    "\n",
    "scales = np.arange(1.1, 3.0, 0.01)\n",
    "scale, scale_err = ns.compare_scale(func, w, scales, True, error = False, show_all = False)\n",
    "\n",
    "error = True\n",
    "wfit, werr = ns.check_fit(func, ns.log_binning, w, [scale, True, error], error, True, 'log')\n",
    "print('Fit params: ', wfit)\n",
    "print('Fit error: ' ,werr)\n",
    "\n",
    "error = False\n",
    "wfit, werr = ns.check_fit(func, ns.log_binning, w, [scale, True, error], error, True, 'log')\n",
    "print('Fit params: ', wfit)\n",
    "print('Fit error: ' ,werr)"
   ]
  },
  {
   "cell_type": "code",
   "execution_count": null,
   "metadata": {},
   "outputs": [
    {
     "name": "stdout",
     "output_type": "stream",
     "text": [
      "  best scaling factor    best average error\n",
      "---------------------  --------------------\n",
      "                 1.65                 10.34\n"
     ]
    },
    {
     "name": "stderr",
     "output_type": "stream",
     "text": [
      "/Users/ali/MSci Project/network_stats.py:94: RuntimeWarning: overflow encountered in exp\n",
      "  return b*np.exp(x*a)\n",
      "/Users/ali/opt/anaconda3/lib/python3.9/site-packages/scipy/optimize/minpack.py:833: OptimizeWarning: Covariance of the parameters could not be estimated\n",
      "  warnings.warn('Covariance of the parameters could not be estimated',\n"
     ]
    },
    {
     "ename": "RuntimeError",
     "evalue": "Optimal parameters not found: Number of calls to function has reached maxfev = 600.",
     "output_type": "error",
     "traceback": [
      "\u001b[0;31m---------------------------------------------------------------------------\u001b[0m",
      "\u001b[0;31mRuntimeError\u001b[0m                              Traceback (most recent call last)",
      "\u001b[1;32m/Users/ali/MSci Project/Generating networks.ipynb Cell 4\u001b[0m in \u001b[0;36m<cell line: 7>\u001b[0;34m()\u001b[0m\n\u001b[1;32m      <a href='vscode-notebook-cell:/Users/ali/MSci%20Project/Generating%20networks.ipynb#X12sZmlsZQ%3D%3D?line=3'>4</a>\u001b[0m scale, scale_err \u001b[39m=\u001b[39m ns\u001b[39m.\u001b[39mcompare_scale(func, w, scales, \u001b[39mTrue\u001b[39;00m, error \u001b[39m=\u001b[39m \u001b[39mFalse\u001b[39;00m, show_all \u001b[39m=\u001b[39m \u001b[39mFalse\u001b[39;00m)\n\u001b[1;32m      <a href='vscode-notebook-cell:/Users/ali/MSci%20Project/Generating%20networks.ipynb#X12sZmlsZQ%3D%3D?line=5'>6</a>\u001b[0m error \u001b[39m=\u001b[39m \u001b[39mTrue\u001b[39;00m\n\u001b[0;32m----> <a href='vscode-notebook-cell:/Users/ali/MSci%20Project/Generating%20networks.ipynb#X12sZmlsZQ%3D%3D?line=6'>7</a>\u001b[0m wfit, werr \u001b[39m=\u001b[39m ns\u001b[39m.\u001b[39;49mcheck_fit(func, ns\u001b[39m.\u001b[39;49mlog_binning, w, [scale, \u001b[39mTrue\u001b[39;49;00m, error], error, \u001b[39mTrue\u001b[39;49;00m, \u001b[39m'\u001b[39;49m\u001b[39mlog\u001b[39;49m\u001b[39m'\u001b[39;49m)\n\u001b[1;32m      <a href='vscode-notebook-cell:/Users/ali/MSci%20Project/Generating%20networks.ipynb#X12sZmlsZQ%3D%3D?line=7'>8</a>\u001b[0m \u001b[39mprint\u001b[39m(\u001b[39m'\u001b[39m\u001b[39mFit params: \u001b[39m\u001b[39m'\u001b[39m, wfit)\n\u001b[1;32m      <a href='vscode-notebook-cell:/Users/ali/MSci%20Project/Generating%20networks.ipynb#X12sZmlsZQ%3D%3D?line=8'>9</a>\u001b[0m \u001b[39mprint\u001b[39m(\u001b[39m'\u001b[39m\u001b[39mFit error: \u001b[39m\u001b[39m'\u001b[39m ,werr)\n",
      "File \u001b[0;32m~/MSci Project/network_stats.py:129\u001b[0m, in \u001b[0;36mcheck_fit\u001b[0;34m(fit_func, bin_func, data, params, error, plot, plot_scale)\u001b[0m\n\u001b[1;32m    127\u001b[0m \u001b[39mif\u001b[39;00m error:\n\u001b[1;32m    128\u001b[0m     x, y, e \u001b[39m=\u001b[39m bin_func(data, \u001b[39m*\u001b[39mparams)\n\u001b[0;32m--> 129\u001b[0m     fit, cov \u001b[39m=\u001b[39m curve_fit(fit_func, x, y, sigma \u001b[39m=\u001b[39;49m e, absolute_sigma \u001b[39m=\u001b[39;49m \u001b[39m1\u001b[39;49m)\n\u001b[1;32m    130\u001b[0m     \u001b[39mif\u001b[39;00m plot:\n\u001b[1;32m    131\u001b[0m         plt\u001b[39m.\u001b[39merrorbar(x, y, yerr \u001b[39m=\u001b[39m e, fmt \u001b[39m=\u001b[39m \u001b[39m'\u001b[39m\u001b[39mx\u001b[39m\u001b[39m'\u001b[39m)\n",
      "File \u001b[0;32m~/opt/anaconda3/lib/python3.9/site-packages/scipy/optimize/minpack.py:794\u001b[0m, in \u001b[0;36mcurve_fit\u001b[0;34m(f, xdata, ydata, p0, sigma, absolute_sigma, check_finite, bounds, method, jac, **kwargs)\u001b[0m\n\u001b[1;32m    792\u001b[0m     cost \u001b[39m=\u001b[39m np\u001b[39m.\u001b[39msum(infodict[\u001b[39m'\u001b[39m\u001b[39mfvec\u001b[39m\u001b[39m'\u001b[39m] \u001b[39m*\u001b[39m\u001b[39m*\u001b[39m \u001b[39m2\u001b[39m)\n\u001b[1;32m    793\u001b[0m     \u001b[39mif\u001b[39;00m ier \u001b[39mnot\u001b[39;00m \u001b[39min\u001b[39;00m [\u001b[39m1\u001b[39m, \u001b[39m2\u001b[39m, \u001b[39m3\u001b[39m, \u001b[39m4\u001b[39m]:\n\u001b[0;32m--> 794\u001b[0m         \u001b[39mraise\u001b[39;00m \u001b[39mRuntimeError\u001b[39;00m(\u001b[39m\"\u001b[39m\u001b[39mOptimal parameters not found: \u001b[39m\u001b[39m\"\u001b[39m \u001b[39m+\u001b[39m errmsg)\n\u001b[1;32m    795\u001b[0m \u001b[39melse\u001b[39;00m:\n\u001b[1;32m    796\u001b[0m     \u001b[39m# Rename maxfev (leastsq) to max_nfev (least_squares), if specified.\u001b[39;00m\n\u001b[1;32m    797\u001b[0m     \u001b[39mif\u001b[39;00m \u001b[39m'\u001b[39m\u001b[39mmax_nfev\u001b[39m\u001b[39m'\u001b[39m \u001b[39mnot\u001b[39;00m \u001b[39min\u001b[39;00m kwargs:\n",
      "\u001b[0;31mRuntimeError\u001b[0m: Optimal parameters not found: Number of calls to function has reached maxfev = 600."
     ]
    },
    {
     "data": {
      "text/plain": [
       "<Figure size 432x288 with 0 Axes>"
      ]
     },
     "metadata": {},
     "output_type": "display_data"
    }
   ],
   "source": [
    "\n",
    "func = ns.exponential\n",
    "\n",
    "scales = np.arange(1.1, 2.0, 0.01)\n",
    "scale, scale_err = ns.compare_scale(func, w, scales, True, error = False, show_all = False)\n",
    "\n",
    "error = True\n",
    "wfit, werr = ns.check_fit(func, ns.log_binning, w, [scale, True, error], error, True, 'log')\n",
    "print('Fit params: ', wfit)\n",
    "print('Fit error: ' ,werr)\n",
    "\n",
    "error = False\n",
    "wfit, werr = ns.check_fit(func, ns.log_binning, w, [scale, True, error], error, True, 'log')\n",
    "print('Fit params: ', wfit)\n",
    "print('Fit error: ' ,werr)"
   ]
  },
  {
   "cell_type": "code",
   "execution_count": null,
   "metadata": {},
   "outputs": [
    {
     "name": "stdout",
     "output_type": "stream",
     "text": [
      "  best scaling factor    best average error\n",
      "---------------------  --------------------\n",
      "                 1.11                 52.71\n"
     ]
    },
    {
     "name": "stderr",
     "output_type": "stream",
     "text": [
      "/Users/ali/MSci Project/network_stats.py:106: RuntimeWarning: overflow encountered in power\n",
      "  return  b * ((x)**c) / np.exp(x*a)\n",
      "/Users/ali/MSci Project/network_stats.py:106: RuntimeWarning: overflow encountered in multiply\n",
      "  return  b * ((x)**c) / np.exp(x*a)\n",
      "/Users/ali/MSci Project/network_stats.py:106: RuntimeWarning: divide by zero encountered in true_divide\n",
      "  return  b * ((x)**c) / np.exp(x*a)\n",
      "/Users/ali/opt/anaconda3/lib/python3.9/site-packages/numpy/core/_methods.py:262: RuntimeWarning: Degrees of freedom <= 0 for slice\n",
      "  ret = _var(a, axis=axis, dtype=dtype, out=out, ddof=ddof,\n",
      "/Users/ali/opt/anaconda3/lib/python3.9/site-packages/numpy/core/_methods.py:222: RuntimeWarning: invalid value encountered in true_divide\n",
      "  arrmean = um.true_divide(arrmean, div, out=arrmean, casting='unsafe',\n",
      "/Users/ali/opt/anaconda3/lib/python3.9/site-packages/numpy/core/_methods.py:254: RuntimeWarning: invalid value encountered in double_scalars\n",
      "  ret = ret.dtype.type(ret / rcount)\n",
      "/Users/ali/opt/anaconda3/lib/python3.9/site-packages/scipy/optimize/minpack.py:756: RuntimeWarning: divide by zero encountered in true_divide\n",
      "  transform = 1.0 / sigma\n",
      "/Users/ali/opt/anaconda3/lib/python3.9/site-packages/scipy/optimize/minpack.py:833: OptimizeWarning: Covariance of the parameters could not be estimated\n",
      "  warnings.warn('Covariance of the parameters could not be estimated',\n"
     ]
    },
    {
     "data": {
      "image/png": "[encoded data removed]",
      "text/plain": [
       "<Figure size 432x288 with 1 Axes>"
      ]
     },
     "metadata": {
      "needs_background": "light"
     },
     "output_type": "display_data"
    },
    {
     "name": "stdout",
     "output_type": "stream",
     "text": [
      "Fit params:  [1. 1. 1.]\n",
      "Fit error:  [inf inf inf]\n"
     ]
    },
    {
     "name": "stderr",
     "output_type": "stream",
     "text": [
      "/Users/ali/MSci Project/network_stats.py:106: RuntimeWarning: overflow encountered in power\n",
      "  return  b * ((x)**c) / np.exp(x*a)\n"
     ]
    },
    {
     "data": {
      "image/png": "[encoded data removed]",
      "text/plain": [
       "<Figure size 432x288 with 1 Axes>"
      ]
     },
     "metadata": {
      "needs_background": "light"
     },
     "output_type": "display_data"
    },
    {
     "name": "stdout",
     "output_type": "stream",
     "text": [
      "Fit params:  [-2.37896478  1.75377931 -0.78248495]\n",
      "Fit error:  [108.82267786  41.61783671   7.67919742]\n"
     ]
    }
   ],
   "source": [
    "func = ns.weight_func\n",
    "\n",
    "scales = np.arange(1.1, 2.0, 0.01)\n",
    "scale, scale_err = ns.compare_scale(func, w, scales, True, error = False, show_all = False)\n",
    "\n",
    "error = True\n",
    "wfit, werr = ns.check_fit(func, ns.log_binning, w, [scale, True, error], error, True, 'log')\n",
    "print('Fit params: ', wfit)\n",
    "print('Fit error: ' ,werr)\n",
    "\n",
    "error = False\n",
    "wfit, werr = ns.check_fit(func, ns.log_binning, w, [scale, True, error], error, True, 'log')\n",
    "print('Fit params: ', wfit)\n",
    "print('Fit error: ' ,werr)"
   ]
  }
 ],
 "metadata": {
  "kernelspec": {
   "display_name": "base",
   "language": "python",
   "name": "python3"
  },
  "language_info": {
   "codemirror_mode": {
    "name": "ipython",
    "version": 3
   },
   "file_extension": ".py",
   "mimetype": "text/x-python",
   "name": "python",
   "nbconvert_exporter": "python",
   "pygments_lexer": "ipython3",
   "version": "3.9.12"
  },
  "orig_nbformat": 4
 },
 "nbformat": 4,
 "nbformat_minor": 2
}
