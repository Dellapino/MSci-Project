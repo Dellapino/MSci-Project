{
 "cells": [
  {
   "cell_type": "code",
   "execution_count": 18,
   "metadata": {},
   "outputs": [],
   "source": [
    "import network_manipulation as nm\n",
    "import network_stats as ns\n",
    "import numpy as np\n",
    "from scipy.optimize import curve_fit\n",
    "import matplotlib.pyplot as plt\n",
    "import networkx as nx\n",
    "\n",
    "dataset_paths = [\n",
    "'Sociopatterns datasets/conference_2009.dat_',\n",
    "'Sociopatterns datasets/highschool_2011.csv',\n",
    "'Sociopatterns datasets/highschool_2012.csv',\n",
    "'Sociopatterns datasets/highschool_2013.csv',\n",
    "'Sociopatterns datasets/hospital_2010.dat_',\n",
    "'Sociopatterns datasets/primaryschool_2014.csv',\n",
    "'Sociopatterns datasets/workplace_2013.dat',\n",
    "'Sociopatterns datasets/workplace_2015.dat_']\n",
    "\n",
    "dataset_names = [\n",
    "    'Conference 1', \n",
    "    'Highschool 1', \n",
    "    'Highschool 2', \n",
    "    'Highschool 3', \n",
    "    'Hospital 1', \n",
    "    'Primaryschool 1', \n",
    "    'Workplace 1', \n",
    "    'Workplace 2']"
   ]
  },
  {
   "cell_type": "code",
   "execution_count": 19,
   "metadata": {},
   "outputs": [
    {
     "name": "stdout",
     "output_type": "stream",
     "text": [
      "Node measures\n",
      "degree : 23.734491315136477\n",
      "weight : 14.691270256142184\n",
      "closeness : 207.61231638343395\n",
      "betweenness : 0.9577672733588912\n",
      "eigenvector : 17.156434026362536\n",
      "\n",
      "\n",
      "Network measures\n",
      "nodes : 403\n",
      "edges : 9565\n",
      "ratio : 23.734491315136477\n",
      "components : 1\n",
      "density : 0.11808204634396256\n",
      "transitivity : 0.23590263303822398\n",
      "\n",
      "\n"
     ]
    },
    {
     "data": {
      "image/png": "[encoded data removed]",
      "text/plain": [
       "<Figure size 864x288 with 2 Axes>"
      ]
     },
     "metadata": {
      "needs_background": "light"
     },
     "output_type": "display_data"
    }
   ],
   "source": [
    "# Measuring original network\n",
    "\n",
    "G = nm.build_nxgraph(dataset_paths[0], False) \n",
    "node_measures = ns.measure_nodes(G)\n",
    "network_measures = ns.measure_network(G)\n",
    "\n",
    "def print_dict(dict):\n",
    "    for key in list(dict.keys()):\n",
    "        print(key + ' : ' + str(dict[key]))\n",
    "    print('\\n')\n",
    "        \n",
    "print('Node measures')\n",
    "print_dict(node_measures)\n",
    "print('Network measures')\n",
    "print_dict(network_measures)\n",
    "\n",
    "degrees, weights = ns.analyse_graph(G)\n",
    "\n",
    "figure, axis = plt.subplots(1, 2)\n",
    "figure.set_figwidth(12)\n",
    "\n",
    "axis[0].hist(degrees, bins = 8, density = 1)\n",
    "axis[0].set_title('Degree dist')\n",
    "\n",
    "axis[1].hist(weights, bins = 30, density = 1)\n",
    "axis[1].set_title('Weight dist')\n",
    "axis[1].set_xscale('log')\n",
    "axis[1].set_yscale('log')\n",
    "plt.show()\n",
    "\n",
    "# Should also include plots of degree dist and weight dist"
   ]
  },
  {
   "cell_type": "code",
   "execution_count": 20,
   "metadata": {},
   "outputs": [
    {
     "data": {
      "text/plain": [
       "17"
      ]
     },
     "execution_count": 20,
     "metadata": {},
     "output_type": "execute_result"
    }
   ],
   "source": [
    "G['1467']['1591']['weight']"
   ]
  },
  {
   "cell_type": "code",
   "execution_count": 21,
   "metadata": {},
   "outputs": [
    {
     "name": "stderr",
     "output_type": "stream",
     "text": [
      "/Users/ali/MSci Project/network_stats.py:98: RuntimeWarning: divide by zero encountered in true_divide\n",
      "  return (x**a) / np.exp(b*x+c)\n",
      "/Users/ali/MSci Project/network_stats.py:98: RuntimeWarning: overflow encountered in exp\n",
      "  return (x**a) / np.exp(b*x+c)\n",
      "/Users/ali/MSci Project/network_stats.py:98: RuntimeWarning: overflow encountered in double_scalars\n",
      "  return (x**a) / np.exp(b*x+c)\n",
      "/Users/ali/MSci Project/network_stats.py:98: RuntimeWarning: invalid value encountered in double_scalars\n",
      "  return (x**a) / np.exp(b*x+c)\n",
      "/Users/ali/opt/anaconda3/lib/python3.9/site-packages/scipy/stats/_distn_infrastructure.py:1837: IntegrationWarning: The occurrence of roundoff error is detected, which prevents \n",
      "  the requested tolerance from being achieved.  The error may be \n",
      "  underestimated.\n",
      "  return integrate.quad(self._pdf, _a, x, args=args)[0]\n",
      "/Users/ali/opt/anaconda3/lib/python3.9/site-packages/numpy/lib/function_base.py:2246: RuntimeWarning: invalid value encountered in _cdf_single (vectorized)\n",
      "  outputs = ufunc(*inputs)\n",
      "/Users/ali/opt/anaconda3/lib/python3.9/site-packages/scipy/stats/_distn_infrastructure.py:1837: IntegrationWarning: The maximum number of subdivisions (50) has been achieved.\n",
      "  If increasing the limit yields no improvement it is advised to analyze \n",
      "  the integrand in order to determine the difficulties.  If the position of a \n",
      "  local difficulty can be determined (singularity, discontinuity) one will \n",
      "  probably gain from splitting up the interval and calling the integrator \n",
      "  on the subranges.  Perhaps a special-purpose integrator should be used.\n",
      "  return integrate.quad(self._pdf, _a, x, args=args)[0]\n"
     ]
    },
    {
     "name": "stdout",
     "output_type": "stream",
     "text": [
      "24781\n",
      "24816\n",
      "  best scaling factor    best average error\n",
      "---------------------  --------------------\n",
      "                 1.97                  2.48\n",
      "What the dog doin\n",
      "What the dog doin\n",
      "What the dog doin\n",
      "What the dog doin\n",
      "What the dog doin\n",
      "What the dog doin\n",
      "What the dog doin\n",
      "What the dog doin\n"
     ]
    }
   ],
   "source": [
    "import scipy.stats as sps\n",
    "\n",
    "dfit, dcov = ns.fit_degrees(degrees)\n",
    "\n",
    "class degree_distribution(sps.rv_continuous): \n",
    "    def _pdf(self, x):\n",
    "        return ns.degree_func(x, *dfit)\n",
    "\n",
    "ddist = degree_distribution(a=0)\n",
    "degree_samples = ddist.rvs(size = 500) # 1000 samples, 2.5x bigger for network[0]\n",
    "degree_samples = np.ceil(degree_samples).astype(int)\n",
    "\n",
    "print(sum(degree_samples))\n",
    "if sum(degree_samples)%2 != 0:\n",
    "    degree_samples = np.append(degree_samples, 35) # chose this as seems to be average from graph\n",
    "print(sum(degree_samples))\n",
    "\n",
    "H = nx.configuration_model(degree_samples, create_using = nx.Graph)\n",
    "scale, scale_err = ns.optimize_scale(weights)\n",
    "wfit, wcov = ns.fit_weights(weights, scale)\n",
    "H = ns.set_weights(H, wfit)"
   ]
  },
  {
   "cell_type": "code",
   "execution_count": 22,
   "metadata": {},
   "outputs": [
    {
     "data": {
      "text/plain": [
       "501"
      ]
     },
     "execution_count": 22,
     "metadata": {},
     "output_type": "execute_result"
    }
   ],
   "source": [
    "len(degree_samples)"
   ]
  },
  {
   "cell_type": "code",
   "execution_count": 23,
   "metadata": {},
   "outputs": [
    {
     "name": "stdout",
     "output_type": "stream",
     "text": [
      "[196.02146995 105.13544331  15.23875212  19.09230528  43.801307\n",
      "  26.77863305  18.72017838  45.97865783  56.97285819 105.81921335]\n"
     ]
    }
   ],
   "source": [
    "test = ns.sample_weights(10, wfit)\n",
    "print(test)"
   ]
  },
  {
   "cell_type": "code",
   "execution_count": 24,
   "metadata": {},
   "outputs": [
    {
     "name": "stdout",
     "output_type": "stream",
     "text": [
      "Node measures\n",
      "degree : 22.55688622754491\n",
      "weight : 363.1094384123446\n",
      "closeness : 245.57455926399996\n",
      "betweenness : 0.9567935871743485\n",
      "eigenvector : 19.21153237578423\n",
      "\n",
      "\n",
      "Network measures\n",
      "nodes : 501\n",
      "edges : 11301\n",
      "ratio : 22.55688622754491\n",
      "components : 9\n",
      "density : 0.09022754491017965\n",
      "transitivity : 0.15946593551398833\n",
      "\n",
      "\n"
     ]
    },
    {
     "data": {
      "image/png": "[encoded data removed]",
      "text/plain": [
       "<Figure size 864x288 with 2 Axes>"
      ]
     },
     "metadata": {
      "needs_background": "light"
     },
     "output_type": "display_data"
    }
   ],
   "source": [
    "node_measures = ns.measure_nodes(H)\n",
    "network_measures = ns.measure_network(H)\n",
    "\n",
    "print('Node measures')\n",
    "print_dict(node_measures)\n",
    "print('Network measures')\n",
    "print_dict(network_measures)\n",
    "\n",
    "degrees, weights = ns.analyse_graph(H)\n",
    "\n",
    "figure, axis = plt.subplots(1, 2)\n",
    "figure.set_figwidth(12)\n",
    "\n",
    "axis[0].hist(degrees, bins = 8, density = 1)\n",
    "axis[0].set_title('Degree dist')\n",
    "\n",
    "axis[1].hist(weights, bins = 30, density = 1)\n",
    "axis[1].set_title('Weight dist')\n",
    "axis[1].set_xscale('log')\n",
    "axis[1].set_yscale('log')\n",
    "plt.show()"
   ]
  },
  {
   "cell_type": "code",
   "execution_count": 25,
   "metadata": {},
   "outputs": [
    {
     "data": {
      "text/plain": [
       "0.09022754491017965"
      ]
     },
     "execution_count": 25,
     "metadata": {},
     "output_type": "execute_result"
    }
   ],
   "source": [
    "nx.density(H)\n"
   ]
  },
  {
   "cell_type": "code",
   "execution_count": 26,
   "metadata": {},
   "outputs": [
    {
     "ename": "NetworkXError",
     "evalue": "Graph is not connected.",
     "output_type": "error",
     "traceback": [
      "\u001b[0;31m---------------------------------------------------------------------------\u001b[0m",
      "\u001b[0;31mNetworkXError\u001b[0m                             Traceback (most recent call last)",
      "\u001b[1;32m/Users/ali/MSci Project/testing centrality measures.ipynb Cell 9\u001b[0m in \u001b[0;36m<cell line: 1>\u001b[0;34m()\u001b[0m\n\u001b[0;32m----> <a href='vscode-notebook-cell:/Users/ali/MSci%20Project/testing%20centrality%20measures.ipynb#X22sZmlsZQ%3D%3D?line=0'>1</a>\u001b[0m nx\u001b[39m.\u001b[39;49maverage_shortest_path_length(H)\n",
      "File \u001b[0;32m~/opt/anaconda3/lib/python3.9/site-packages/networkx/algorithms/shortest_paths/generic.py:404\u001b[0m, in \u001b[0;36maverage_shortest_path_length\u001b[0;34m(G, weight, method)\u001b[0m\n\u001b[1;32m    402\u001b[0m     \u001b[39mraise\u001b[39;00m nx\u001b[39m.\u001b[39mNetworkXError(\u001b[39m\"\u001b[39m\u001b[39mGraph is not weakly connected.\u001b[39m\u001b[39m\"\u001b[39m)\n\u001b[1;32m    403\u001b[0m \u001b[39mif\u001b[39;00m \u001b[39mnot\u001b[39;00m G\u001b[39m.\u001b[39mis_directed() \u001b[39mand\u001b[39;00m \u001b[39mnot\u001b[39;00m nx\u001b[39m.\u001b[39mis_connected(G):\n\u001b[0;32m--> 404\u001b[0m     \u001b[39mraise\u001b[39;00m nx\u001b[39m.\u001b[39mNetworkXError(\u001b[39m\"\u001b[39m\u001b[39mGraph is not connected.\u001b[39m\u001b[39m\"\u001b[39m)\n\u001b[1;32m    406\u001b[0m \u001b[39m# Compute all-pairs shortest paths.\u001b[39;00m\n\u001b[1;32m    407\u001b[0m \u001b[39mdef\u001b[39;00m \u001b[39mpath_length\u001b[39m(v):\n",
      "\u001b[0;31mNetworkXError\u001b[0m: Graph is not connected."
     ]
    }
   ],
   "source": [
    "nx.average_shortest_path_length(H)"
   ]
  },
  {
   "cell_type": "code",
   "execution_count": null,
   "metadata": {},
   "outputs": [
    {
     "ename": "NetworkXError",
     "evalue": "Found infinite path length because the graph is not connected",
     "output_type": "error",
     "traceback": [
      "\u001b[0;31m---------------------------------------------------------------------------\u001b[0m",
      "\u001b[0;31mNetworkXError\u001b[0m                             Traceback (most recent call last)",
      "\u001b[1;32m/Users/ali/MSci Project/testing centrality measures.ipynb Cell 8\u001b[0m in \u001b[0;36m<cell line: 1>\u001b[0;34m()\u001b[0m\n\u001b[0;32m----> <a href='vscode-notebook-cell:/Users/ali/MSci%20Project/testing%20centrality%20measures.ipynb#X23sZmlsZQ%3D%3D?line=0'>1</a>\u001b[0m nx\u001b[39m.\u001b[39;49mdiameter(H)\n",
      "File \u001b[0;32m~/opt/anaconda3/lib/python3.9/site-packages/networkx/algorithms/distance_measures.py:299\u001b[0m, in \u001b[0;36mdiameter\u001b[0;34m(G, e, usebounds)\u001b[0m\n\u001b[1;32m    297\u001b[0m     \u001b[39mreturn\u001b[39;00m extrema_bounding(G, compute\u001b[39m=\u001b[39m\u001b[39m\"\u001b[39m\u001b[39mdiameter\u001b[39m\u001b[39m\"\u001b[39m)\n\u001b[1;32m    298\u001b[0m \u001b[39mif\u001b[39;00m e \u001b[39mis\u001b[39;00m \u001b[39mNone\u001b[39;00m:\n\u001b[0;32m--> 299\u001b[0m     e \u001b[39m=\u001b[39m eccentricity(G)\n\u001b[1;32m    300\u001b[0m \u001b[39mreturn\u001b[39;00m \u001b[39mmax\u001b[39m(e\u001b[39m.\u001b[39mvalues())\n",
      "File \u001b[0;32m~/opt/anaconda3/lib/python3.9/site-packages/networkx/algorithms/distance_measures.py:264\u001b[0m, in \u001b[0;36meccentricity\u001b[0;34m(G, v, sp)\u001b[0m\n\u001b[1;32m    262\u001b[0m         \u001b[39melse\u001b[39;00m:\n\u001b[1;32m    263\u001b[0m             msg \u001b[39m=\u001b[39m \u001b[39m\"\u001b[39m\u001b[39mFound infinite path length because the graph is not\u001b[39m\u001b[39m\"\u001b[39m \u001b[39m\"\u001b[39m\u001b[39m connected\u001b[39m\u001b[39m\"\u001b[39m\n\u001b[0;32m--> 264\u001b[0m         \u001b[39mraise\u001b[39;00m nx\u001b[39m.\u001b[39mNetworkXError(msg)\n\u001b[1;32m    266\u001b[0m     e[n] \u001b[39m=\u001b[39m \u001b[39mmax\u001b[39m(length\u001b[39m.\u001b[39mvalues())\n\u001b[1;32m    268\u001b[0m \u001b[39mif\u001b[39;00m v \u001b[39min\u001b[39;00m G:\n",
      "\u001b[0;31mNetworkXError\u001b[0m: Found infinite path length because the graph is not connected"
     ]
    }
   ],
   "source": [
    "nx.diameter(H)"
   ]
  },
  {
   "cell_type": "code",
   "execution_count": null,
   "metadata": {},
   "outputs": [
    {
     "data": {
      "text/plain": [
       "0.07972776995848849"
      ]
     },
     "execution_count": 37,
     "metadata": {},
     "output_type": "execute_result"
    }
   ],
   "source": [
    "nx.transitivity(H)"
   ]
  },
  {
   "cell_type": "code",
   "execution_count": null,
   "metadata": {},
   "outputs": [
    {
     "name": "stdout",
     "output_type": "stream",
     "text": [
      "0\n",
      "1\n",
      "2\n",
      "3\n",
      "4\n"
     ]
    },
    {
     "data": {
      "image/png": "[encoded data removed]",
      "text/plain": [
       "<Figure size 432x288 with 1 Axes>"
      ]
     },
     "metadata": {
      "needs_background": "light"
     },
     "output_type": "display_data"
    },
    {
     "name": "stdout",
     "output_type": "stream",
     "text": [
      "0\n",
      "1\n",
      "2\n",
      "3\n",
      "4\n"
     ]
    },
    {
     "data": {
      "image/png": "[encoded data removed]",
      "text/plain": [
       "<Figure size 432x288 with 1 Axes>"
      ]
     },
     "metadata": {
      "needs_background": "light"
     },
     "output_type": "display_data"
    }
   ],
   "source": [
    "import SI_model_nx as si\n",
    "\n",
    "simulation_params = {}\n",
    "simulation_params['Time'] = 50\n",
    "simulation_params['Initial'] = 0.05\n",
    "simulation_params['Beta'] = 0.6\n",
    "simulation_params['Runs'] = 5\n",
    "simulation_params['Threshold'] = 125\n",
    "simulation_params['Increment'] = 0.1\n",
    "\n",
    "si.SI_comparison(G, simulation_params, 'Original')\n",
    "\n",
    "si.SI_comparison(H, simulation_params, 'Upscaled')"
   ]
  }
 ],
 "metadata": {
  "kernelspec": {
   "display_name": "base",
   "language": "python",
   "name": "python3"
  },
  "language_info": {
   "codemirror_mode": {
    "name": "ipython",
    "version": 3
   },
   "file_extension": ".py",
   "mimetype": "text/x-python",
   "name": "python",
   "nbconvert_exporter": "python",
   "pygments_lexer": "ipython3",
   "version": "3.9.12"
  },
  "orig_nbformat": 4,
  "vscode": {
   "interpreter": {
    "hash": "25e1ce75cfb12f047913573b7bc7a98ece3d58460e313b6b0bb12faf016c0990"
   }
  }
 },
 "nbformat": 4,
 "nbformat_minor": 2
}
