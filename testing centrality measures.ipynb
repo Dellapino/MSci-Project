{
 "cells": [
  {
   "cell_type": "code",
   "execution_count": 1,
   "metadata": {},
   "outputs": [],
   "source": [
    "import network_manipulation as nm\n",
    "import network_stats as ns\n",
    "import numpy as np\n",
    "from scipy.optimize import curve_fit\n",
    "import matplotlib.pyplot as plt\n",
    "import networkx as nx\n",
    "\n",
    "dataset_paths = [\n",
    "'Sociopatterns datasets/conference_2009.dat_',\n",
    "'Sociopatterns datasets/highschool_2011.csv',\n",
    "'Sociopatterns datasets/highschool_2012.csv',\n",
    "'Sociopatterns datasets/highschool_2013.csv',\n",
    "'Sociopatterns datasets/hospital_2010.dat_',\n",
    "'Sociopatterns datasets/primaryschool_2014.csv',\n",
    "'Sociopatterns datasets/workplace_2013.dat',\n",
    "'Sociopatterns datasets/workplace_2015.dat_']\n",
    "\n",
    "dataset_names = [\n",
    "    'Conference 1', \n",
    "    'Highschool 1', \n",
    "    'Highschool 2', \n",
    "    'Highschool 3', \n",
    "    'Hospital 1', \n",
    "    'Primaryschool 1', \n",
    "    'Workplace 1', \n",
    "    'Workplace 2']"
   ]
  },
  {
   "cell_type": "code",
   "execution_count": 2,
   "metadata": {},
   "outputs": [
    {
     "name": "stdout",
     "output_type": "stream",
     "text": [
      "Node measures\n",
      "degree : 23.734491315136477\n",
      "weight : 14.691270256142184\n",
      "closeness : 207.61231638343395\n",
      "betweenness : 0.9577672733588912\n",
      "eigenvector : 17.156434026362536\n",
      "\n",
      "\n",
      "Network measures\n",
      "nodes : 403\n",
      "edges : 9565\n",
      "ratio : 23.734491315136477\n",
      "components : 1\n",
      "density : 0.11808204634396256\n",
      "path : 1.9530140858980531\n",
      "diameter : 4\n",
      "transitivity : 0.23590263303822398\n",
      "\n",
      "\n"
     ]
    },
    {
     "data": {
      "image/png": "[encoded data removed]",
      "text/plain": [
       "<Figure size 864x288 with 2 Axes>"
      ]
     },
     "metadata": {
      "needs_background": "light"
     },
     "output_type": "display_data"
    }
   ],
   "source": [
    "# Measuring original network\n",
    "\n",
    "G = nm.build_nxgraph(dataset_paths[0], False) \n",
    "node_measures = ns.measure_nodes(G)\n",
    "network_measures = ns.measure_network(G)\n",
    "\n",
    "def print_dict(dict):\n",
    "    for key in list(dict.keys()):\n",
    "        print(key + ' : ' + str(dict[key]))\n",
    "    print('\\n')\n",
    "        \n",
    "print('Node measures')\n",
    "print_dict(node_measures)\n",
    "print('Network measures')\n",
    "print_dict(network_measures)\n",
    "\n",
    "degrees, weights = ns.analyse_graph(G)\n",
    "\n",
    "figure, axis = plt.subplots(1, 2)\n",
    "figure.set_figwidth(12)\n",
    "\n",
    "axis[0].hist(degrees, bins = 8, density = 1)\n",
    "axis[0].set_title('Degree dist')\n",
    "\n",
    "axis[1].hist(weights, bins = 30, density = 1)\n",
    "axis[1].set_title('Weight dist')\n",
    "axis[1].set_xscale('log')\n",
    "axis[1].set_yscale('log')\n",
    "plt.show()\n",
    "\n",
    "# Should also include plots of degree dist and weight dist"
   ]
  },
  {
   "cell_type": "code",
   "execution_count": 3,
   "metadata": {},
   "outputs": [
    {
     "data": {
      "text/plain": [
       "17"
      ]
     },
     "execution_count": 3,
     "metadata": {},
     "output_type": "execute_result"
    }
   ],
   "source": [
    "G['1467']['1591']['weight']"
   ]
  },
  {
   "cell_type": "code",
   "execution_count": 5,
   "metadata": {},
   "outputs": [
    {
     "name": "stdout",
     "output_type": "stream",
     "text": [
      "24000\n",
      "24000\n",
      "  best scaling factor    best average error\n",
      "---------------------  --------------------\n",
      "                 2.81                  1.56\n"
     ]
    }
   ],
   "source": [
    "# For some reason this breaks when using normalizaed weights\n",
    "# While logbinning the data, it complains about ydata not being defined\n",
    "# This could be because the scale is designed to be calculated for un-normalized\n",
    "# weights, so could fix by making log binning function account for norming\n",
    "\n",
    "import scipy.stats as sps\n",
    "\n",
    "dfit, dcov = ns.fit_degrees(degrees)\n",
    "\n",
    "class degree_distribution(sps.rv_continuous): \n",
    "    def _pdf(self, x):\n",
    "        return ns.degree_func(x, *dfit)\n",
    "\n",
    "ddist = degree_distribution(a=0)\n",
    "degree_samples = ddist.rvs(size = 500) # 1000 samples, 2.5x bigger for network[0]\n",
    "degree_samples = np.ceil(degree_samples).astype(int)\n",
    "degree_samples = [ds for ds in degree_samples if ds != 0] # removes any zeros\n",
    "\n",
    "print(sum(degree_samples))\n",
    "if sum(degree_samples)%2 != 0:\n",
    "    degree_samples = np.append(degree_samples, 35) # chose this as seems to be average from graph\n",
    "print(sum(degree_samples))\n",
    "\n",
    "H = nx.configuration_model(degree_samples, create_using = nx.Graph)\n",
    "scale, scale_err = ns.optimize_scale(weights)\n",
    "wfit, wcov = ns.fit_weights(weights, scale)\n",
    "\n",
    "class weight_distribution(sps.rv_continuous): \n",
    "    def _pdf(self, x):\n",
    "        return ns.weight_func(x, *wfit)\n",
    "\n",
    "w_func = weight_distribution(a=1)\n",
    "\n",
    "H = ns.set_weights(H, w_func)"
   ]
  },
  {
   "cell_type": "code",
   "execution_count": null,
   "metadata": {},
   "outputs": [
    {
     "data": {
      "text/plain": [
       "list"
      ]
     },
     "execution_count": 5,
     "metadata": {},
     "output_type": "execute_result"
    }
   ],
   "source": [
    "type(degree_samples)"
   ]
  },
  {
   "cell_type": "code",
   "execution_count": null,
   "metadata": {},
   "outputs": [
    {
     "name": "stdout",
     "output_type": "stream",
     "text": [
      "[47.14566807 52.24865241 20.73153204 68.39952877 48.21362236 25.69307154\n",
      " 24.04394082 20.02721444 58.95848553 42.53690243]\n"
     ]
    }
   ],
   "source": [
    "test = ns.sample_weights(10, wfit)\n",
    "print(test)"
   ]
  },
  {
   "cell_type": "code",
   "execution_count": 6,
   "metadata": {},
   "outputs": [
    {
     "name": "stdout",
     "output_type": "stream",
     "text": [
      "Node measures\n",
      "degree : 22.208502024291498\n",
      "weight : 3.9952602315194605\n",
      "closeness : 248.29362651160102\n",
      "betweenness : 1.003471363314039\n",
      "eigenvector : 19.177676514982195\n",
      "\n",
      "\n",
      "Network measures\n",
      "nodes : 494\n",
      "edges : 10971\n",
      "ratio : 22.208502024291498\n",
      "components : 1\n",
      "density : 0.09009534289773427\n",
      "path : 1.9994087262156015\n",
      "diameter : 4\n",
      "transitivity : 0.1556479931866821\n",
      "\n",
      "\n"
     ]
    },
    {
     "data": {
      "image/png": "[encoded data removed]",
      "text/plain": [
       "<Figure size 864x288 with 2 Axes>"
      ]
     },
     "metadata": {
      "needs_background": "light"
     },
     "output_type": "display_data"
    }
   ],
   "source": [
    "node_measures = ns.measure_nodes(H)\n",
    "network_measures = ns.measure_network(H)\n",
    "\n",
    "print('Node measures')\n",
    "print_dict(node_measures)\n",
    "print('Network measures')\n",
    "print_dict(network_measures)\n",
    "\n",
    "gen_degrees, gen_weights = ns.analyse_graph(H) # changed variable name to stop throwing off optimize_scale function\n",
    "\n",
    "figure, axis = plt.subplots(1, 2)\n",
    "figure.set_figwidth(12)\n",
    "\n",
    "axis[0].hist(gen_degrees, bins = 8, density = 1)\n",
    "axis[0].set_title('Degree dist')\n",
    "\n",
    "axis[1].hist(gen_weights, bins = 30, density = 1)\n",
    "axis[1].set_title('Weight dist')\n",
    "axis[1].set_xscale('log')\n",
    "axis[1].set_yscale('log')\n",
    "plt.show()"
   ]
  },
  {
   "cell_type": "code",
   "execution_count": null,
   "metadata": {},
   "outputs": [
    {
     "name": "stdout",
     "output_type": "stream",
     "text": [
      "493\n"
     ]
    }
   ],
   "source": [
    "# Shows that extra components of generated graph are singular nodes (i don't know\n",
    "# this is happening in the configuration model), the number of extra components\n",
    "# is equal to the number of times \"what the dog doin is printed\" which occurs when\n",
    "# the graph has nodes with no connections, meaning the degree distribution is\n",
    "# generating 0's so simply need to remove these.\n",
    "\n",
    "components = list(nx.connected_components(H))\n",
    "for component in components:\n",
    "    print(len(component))\n"
   ]
  },
  {
   "cell_type": "code",
   "execution_count": 7,
   "metadata": {},
   "outputs": [
    {
     "name": "stdout",
     "output_type": "stream",
     "text": [
      "0\n",
      "1\n",
      "2\n",
      "3\n",
      "4\n"
     ]
    },
    {
     "data": {
      "image/png": "[encoded data removed]",
      "text/plain": [
       "<Figure size 432x288 with 1 Axes>"
      ]
     },
     "metadata": {
      "needs_background": "light"
     },
     "output_type": "display_data"
    },
    {
     "name": "stdout",
     "output_type": "stream",
     "text": [
      "0\n",
      "1\n",
      "2\n",
      "3\n",
      "4\n"
     ]
    },
    {
     "data": {
      "image/png": "[encoded data removed]",
      "text/plain": [
       "<Figure size 432x288 with 1 Axes>"
      ]
     },
     "metadata": {
      "needs_background": "light"
     },
     "output_type": "display_data"
    }
   ],
   "source": [
    "import SI_model_nx as si\n",
    "\n",
    "simulation_params = {}\n",
    "simulation_params['Time'] = 50\n",
    "simulation_params['Initial'] = 0.05\n",
    "simulation_params['Beta'] = 0.6\n",
    "simulation_params['Runs'] = 5\n",
    "simulation_params['Threshold'] = 100\n",
    "simulation_params['Increment'] = 0.1\n",
    "\n",
    "si.SI_comparison(G, simulation_params, 'Original')\n",
    "si.SI_comparison(H, simulation_params, 'Upscaled')"
   ]
  }
 ],
 "metadata": {
  "kernelspec": {
   "display_name": "base",
   "language": "python",
   "name": "python3"
  },
  "language_info": {
   "codemirror_mode": {
    "name": "ipython",
    "version": 3
   },
   "file_extension": ".py",
   "mimetype": "text/x-python",
   "name": "python",
   "nbconvert_exporter": "python",
   "pygments_lexer": "ipython3",
   "version": "3.9.12"
  },
  "orig_nbformat": 4,
  "vscode": {
   "interpreter": {
    "hash": "25e1ce75cfb12f047913573b7bc7a98ece3d58460e313b6b0bb12faf016c0990"
   }
  }
 },
 "nbformat": 4,
 "nbformat_minor": 2
}
