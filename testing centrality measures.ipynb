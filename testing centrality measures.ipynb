{
 "cells": [
  {
   "cell_type": "code",
   "execution_count": 7,
   "metadata": {},
   "outputs": [],
   "source": [
    "import network_manipulation as nm\n",
    "import network_stats as ns\n",
    "import numpy as np\n",
    "from scipy.optimize import curve_fit\n",
    "import matplotlib.pyplot as plt\n",
    "import networkx as nx\n",
    "\n",
    "dataset_paths = [\n",
    "'Sociopatterns datasets/conference_2009.dat_',\n",
    "'Sociopatterns datasets/highschool_2011.csv',\n",
    "'Sociopatterns datasets/highschool_2012.csv',\n",
    "'Sociopatterns datasets/highschool_2013.csv',\n",
    "'Sociopatterns datasets/hospital_2010.dat_',\n",
    "'Sociopatterns datasets/primaryschool_2014.csv',\n",
    "'Sociopatterns datasets/workplace_2013.dat',\n",
    "'Sociopatterns datasets/workplace_2015.dat_']\n",
    "\n",
    "dataset_names = [\n",
    "    'Conference 1', \n",
    "    'Highschool 1', \n",
    "    'Highschool 2', \n",
    "    'Highschool 3', \n",
    "    'Hospital 1', \n",
    "    'Primaryschool 1', \n",
    "    'Workplace 1', \n",
    "    'Workplace 2']"
   ]
  },
  {
   "cell_type": "code",
   "execution_count": 8,
   "metadata": {},
   "outputs": [
    {
     "name": "stdout",
     "output_type": "stream",
     "text": [
      "Node measures\n",
      "degree : 17.792048929663608\n",
      "weight : 64.80165005156411\n",
      "closeness : 152.51139972965692\n",
      "betweenness : 1.1665691363850876\n",
      "eigenvector : 16.501379789393575\n",
      "\n",
      "\n",
      "Network measures\n",
      "nodes : 327\n",
      "edges : 5818\n",
      "ratio : 17.792048929663608\n",
      "components : 1\n",
      "density : 0.10915367441511416\n",
      "path : 2.1594341569576554\n",
      "diameter : 4\n",
      "transitivity : 0.44442135612150807\n",
      "\n",
      "\n"
     ]
    },
    {
     "data": {
      "image/png": "[encoded data removed]",
      "text/plain": [
       "<Figure size 864x288 with 2 Axes>"
      ]
     },
     "metadata": {
      "needs_background": "light"
     },
     "output_type": "display_data"
    }
   ],
   "source": [
    "# Measuring original network\n",
    "\n",
    "G = nm.build_nxgraph(dataset_paths[3], False) \n",
    "node_measures = ns.measure_nodes(G)\n",
    "network_measures = ns.measure_network(G)\n",
    "\n",
    "def print_dict(dict):\n",
    "    for key in list(dict.keys()):\n",
    "        print(key + ' : ' + str(dict[key]))\n",
    "    print('\\n')\n",
    "        \n",
    "print('Node measures')\n",
    "print_dict(node_measures)\n",
    "print('Network measures')\n",
    "print_dict(network_measures)\n",
    "\n",
    "degrees, weights = ns.analyse_graph(G)\n",
    "\n",
    "figure, axis = plt.subplots(1, 2)\n",
    "figure.set_figwidth(12)\n",
    "\n",
    "axis[0].hist(degrees, bins = 8, density = 1)\n",
    "axis[0].set_title('Degree dist')\n",
    "\n",
    "axis[1].hist(weights, bins = 30, density = 1)\n",
    "axis[1].set_title('Weight dist')\n",
    "axis[1].set_xscale('log')\n",
    "axis[1].set_yscale('log')\n",
    "plt.show()\n",
    "\n",
    "# Should also include plots of degree dist and weight dist"
   ]
  },
  {
   "cell_type": "code",
   "execution_count": 9,
   "metadata": {},
   "outputs": [
    {
     "name": "stdout",
     "output_type": "stream",
     "text": [
      "18588\n",
      "18588\n"
     ]
    }
   ],
   "source": [
    "# For some reason this breaks when using normalizaed weights\n",
    "# While logbinning the data, it complains about ydata not being defined\n",
    "# This could be because the scale is designed to be calculated for un-normalized\n",
    "# weights, so could fix by making log binning function account for norming\n",
    "\n",
    "import scipy.stats as sps\n",
    "\n",
    "dfit, dcov = ns.fit_degrees(degrees)\n",
    "\n",
    "class degree_distribution(sps.rv_continuous): \n",
    "    def _pdf(self, x):\n",
    "        return ns.degree_func(x, *dfit)\n",
    "\n",
    "ddist = degree_distribution(a=0)\n",
    "degree_samples = ddist.rvs(size = 500) # 1000 samples, 2.5x bigger for network[0]\n",
    "degree_samples = np.ceil(degree_samples).astype(int)\n",
    "degree_samples = [ds for ds in degree_samples if ds != 0] # removes any zeros\n",
    "\n",
    "print(sum(degree_samples))\n",
    "if sum(degree_samples)%2 != 0:\n",
    "    degree_samples = np.append(degree_samples, 35) # chose this as seems to be average from graph\n",
    "print(sum(degree_samples))\n",
    "\n",
    "H = nx.configuration_model(degree_samples, create_using = nx.Graph)"
   ]
  },
  {
   "cell_type": "code",
   "execution_count": 10,
   "metadata": {},
   "outputs": [
    {
     "name": "stdout",
     "output_type": "stream",
     "text": [
      "  best scaling factor    best average error\n",
      "---------------------  --------------------\n",
      "                 2.89                  2.93\n"
     ]
    },
    {
     "ename": "IndexError",
     "evalue": "list index out of range",
     "output_type": "error",
     "traceback": [
      "\u001b[0;31m---------------------------------------------------------------------------\u001b[0m",
      "\u001b[0;31mIndexError\u001b[0m                                Traceback (most recent call last)",
      "\u001b[1;32m/Users/ali/MSci Project/testing centrality measures.ipynb Cell 4\u001b[0m in \u001b[0;36m<cell line: 10>\u001b[0;34m()\u001b[0m\n\u001b[1;32m      <a href='vscode-notebook-cell:/Users/ali/MSci%20Project/testing%20centrality%20measures.ipynb#X30sZmlsZQ%3D%3D?line=5'>6</a>\u001b[0m         \u001b[39mreturn\u001b[39;00m ns\u001b[39m.\u001b[39mweight_func(x, \u001b[39m*\u001b[39mwfit)\n\u001b[1;32m      <a href='vscode-notebook-cell:/Users/ali/MSci%20Project/testing%20centrality%20measures.ipynb#X30sZmlsZQ%3D%3D?line=7'>8</a>\u001b[0m w_func \u001b[39m=\u001b[39m weight_distribution(a\u001b[39m=\u001b[39m\u001b[39m0\u001b[39m)\n\u001b[0;32m---> <a href='vscode-notebook-cell:/Users/ali/MSci%20Project/testing%20centrality%20measures.ipynb#X30sZmlsZQ%3D%3D?line=9'>10</a>\u001b[0m H \u001b[39m=\u001b[39m ns\u001b[39m.\u001b[39;49mset_weights(H, w_func)\n",
      "File \u001b[0;32m~/MSci Project/network_stats.py:217\u001b[0m, in \u001b[0;36mset_weights\u001b[0;34m(G, sample_func)\u001b[0m\n\u001b[1;32m    215\u001b[0m         weights \u001b[39m=\u001b[39m [w \u001b[39mfor\u001b[39;00m w \u001b[39min\u001b[39;00m weights \u001b[39mif\u001b[39;00m w \u001b[39m!=\u001b[39m\u001b[39m0\u001b[39m]\n\u001b[1;32m    216\u001b[0m     \u001b[39mfor\u001b[39;00m i, connection \u001b[39min\u001b[39;00m \u001b[39menumerate\u001b[39m(connections):\n\u001b[0;32m--> 217\u001b[0m         G[node][connection][\u001b[39m'\u001b[39m\u001b[39mweight\u001b[39m\u001b[39m'\u001b[39m] \u001b[39m=\u001b[39m weights[i]\n\u001b[1;32m    218\u001b[0m \u001b[39mreturn\u001b[39;00m G\n",
      "\u001b[0;31mIndexError\u001b[0m: list index out of range"
     ]
    }
   ],
   "source": [
    "scale, scale_err = ns.optimize_scale(weights)\n",
    "wfit, wcov = ns.fit_weights(weights, scale)\n",
    "\n",
    "class weight_distribution(sps.rv_continuous): \n",
    "    def _pdf(self, x):\n",
    "        return ns.weight_func(x, *wfit)\n",
    "\n",
    "w_func = weight_distribution(a=0)\n",
    "\n",
    "\n",
    "\n",
    "H = ns.set_weights(H, w_func)"
   ]
  },
  {
   "cell_type": "code",
   "execution_count": null,
   "metadata": {},
   "outputs": [
    {
     "name": "stdout",
     "output_type": "stream",
     "text": [
      "[1.00002592 1.00014243 1.00009627 1.00010802 1.00009101 1.00013953\n",
      " 1.00011955 1.00002708 1.00013842 1.00003784 1.00000401 1.00002588\n",
      " 1.00001112 1.00006125 1.00015089 1.00014097 1.00014017 1.00011026\n",
      " 1.00006823 1.00009729 1.00005411 1.00010924 1.00007388 1.00002091\n",
      " 1.0001135  1.00001941 1.00010635 1.00009162 1.00004462 1.00012961\n",
      " 1.00009275 1.00002601 1.00005437 1.00011023 1.00006592 1.00012601\n",
      " 1.00001378 1.00001585 1.00004858 1.00011478 1.00003118 1.00003544\n",
      " 1.00015216 1.00010843 1.00012022 1.0001205  1.00000886 1.00006991\n",
      " 1.00015867 1.00010014 1.00000456 1.00008358 1.00006069 1.00001095\n",
      " 1.00014203 1.0000765  1.00013643 1.00002574 1.0000442  1.00010793\n",
      " 1.00008842 1.00003154 1.00011395 1.00002249 1.00007324 1.0000617\n",
      " 1.00013664 1.00008541 1.00007148 1.00011121 1.00014877 1.00014416\n",
      " 1.0000409  1.00013272 1.00003479 1.00001579 1.00004967 1.00008125\n",
      " 1.00008011 1.00009548 1.0001479  1.00011912 1.00008218 1.0000934\n",
      " 1.00002419 1.00002969 1.00004211 1.00004499 1.00004051 1.00015875\n",
      " 1.00000427 1.00015149 1.00003549 1.00007892 1.00009477 1.00010216\n",
      " 1.00013797 1.00003341 1.00000553 1.00001219]\n"
     ]
    }
   ],
   "source": [
    "w_func = weight_distribution(a=1)\n",
    "w_samples = w_func.rvs(size = 100)\n",
    "print(w_samples)"
   ]
  },
  {
   "cell_type": "code",
   "execution_count": null,
   "metadata": {},
   "outputs": [
    {
     "data": {
      "text/plain": [
       "1"
      ]
     },
     "execution_count": 26,
     "metadata": {},
     "output_type": "execute_result"
    }
   ],
   "source": [
    "min(weights)"
   ]
  },
  {
   "cell_type": "code",
   "execution_count": null,
   "metadata": {},
   "outputs": [
    {
     "ename": "NetworkXError",
     "evalue": "Graph is not connected.",
     "output_type": "error",
     "traceback": [
      "\u001b[0;31m---------------------------------------------------------------------------\u001b[0m",
      "\u001b[0;31mNetworkXError\u001b[0m                             Traceback (most recent call last)",
      "\u001b[1;32m/Users/ali/MSci Project/testing centrality measures.ipynb Cell 7\u001b[0m in \u001b[0;36m<cell line: 2>\u001b[0;34m()\u001b[0m\n\u001b[1;32m      <a href='vscode-notebook-cell:/Users/ali/MSci%20Project/testing%20centrality%20measures.ipynb#X21sZmlsZQ%3D%3D?line=0'>1</a>\u001b[0m node_measures \u001b[39m=\u001b[39m ns\u001b[39m.\u001b[39mmeasure_nodes(H)\n\u001b[0;32m----> <a href='vscode-notebook-cell:/Users/ali/MSci%20Project/testing%20centrality%20measures.ipynb#X21sZmlsZQ%3D%3D?line=1'>2</a>\u001b[0m network_measures \u001b[39m=\u001b[39m ns\u001b[39m.\u001b[39;49mmeasure_network(H)\n\u001b[1;32m      <a href='vscode-notebook-cell:/Users/ali/MSci%20Project/testing%20centrality%20measures.ipynb#X21sZmlsZQ%3D%3D?line=3'>4</a>\u001b[0m \u001b[39mprint\u001b[39m(\u001b[39m'\u001b[39m\u001b[39mNode measures\u001b[39m\u001b[39m'\u001b[39m)\n\u001b[1;32m      <a href='vscode-notebook-cell:/Users/ali/MSci%20Project/testing%20centrality%20measures.ipynb#X21sZmlsZQ%3D%3D?line=4'>5</a>\u001b[0m print_dict(node_measures)\n",
      "File \u001b[0;32m~/MSci Project/network_stats.py:331\u001b[0m, in \u001b[0;36mmeasure_network\u001b[0;34m(G)\u001b[0m\n\u001b[1;32m    329\u001b[0m network_measures[\u001b[39m'\u001b[39m\u001b[39mcomponents\u001b[39m\u001b[39m'\u001b[39m] \u001b[39m=\u001b[39m nx\u001b[39m.\u001b[39mnumber_connected_components(G)\n\u001b[1;32m    330\u001b[0m network_measures[\u001b[39m'\u001b[39m\u001b[39mdensity\u001b[39m\u001b[39m'\u001b[39m] \u001b[39m=\u001b[39m nx\u001b[39m.\u001b[39mdensity(G)\n\u001b[0;32m--> 331\u001b[0m network_measures[\u001b[39m'\u001b[39m\u001b[39mpath\u001b[39m\u001b[39m'\u001b[39m] \u001b[39m=\u001b[39m nx\u001b[39m.\u001b[39;49maverage_shortest_path_length(G)\n\u001b[1;32m    332\u001b[0m network_measures[\u001b[39m'\u001b[39m\u001b[39mdiameter\u001b[39m\u001b[39m'\u001b[39m] \u001b[39m=\u001b[39m nx\u001b[39m.\u001b[39mdiameter(G)\n\u001b[1;32m    333\u001b[0m network_measures[\u001b[39m'\u001b[39m\u001b[39mtransitivity\u001b[39m\u001b[39m'\u001b[39m] \u001b[39m=\u001b[39m nx\u001b[39m.\u001b[39mtransitivity(G) \u001b[39m# basically global clustering\u001b[39;00m\n",
      "File \u001b[0;32m~/opt/anaconda3/lib/python3.9/site-packages/networkx/algorithms/shortest_paths/generic.py:404\u001b[0m, in \u001b[0;36maverage_shortest_path_length\u001b[0;34m(G, weight, method)\u001b[0m\n\u001b[1;32m    402\u001b[0m     \u001b[39mraise\u001b[39;00m nx\u001b[39m.\u001b[39mNetworkXError(\u001b[39m\"\u001b[39m\u001b[39mGraph is not weakly connected.\u001b[39m\u001b[39m\"\u001b[39m)\n\u001b[1;32m    403\u001b[0m \u001b[39mif\u001b[39;00m \u001b[39mnot\u001b[39;00m G\u001b[39m.\u001b[39mis_directed() \u001b[39mand\u001b[39;00m \u001b[39mnot\u001b[39;00m nx\u001b[39m.\u001b[39mis_connected(G):\n\u001b[0;32m--> 404\u001b[0m     \u001b[39mraise\u001b[39;00m nx\u001b[39m.\u001b[39mNetworkXError(\u001b[39m\"\u001b[39m\u001b[39mGraph is not connected.\u001b[39m\u001b[39m\"\u001b[39m)\n\u001b[1;32m    406\u001b[0m \u001b[39m# Compute all-pairs shortest paths.\u001b[39;00m\n\u001b[1;32m    407\u001b[0m \u001b[39mdef\u001b[39;00m \u001b[39mpath_length\u001b[39m(v):\n",
      "\u001b[0;31mNetworkXError\u001b[0m: Graph is not connected."
     ]
    }
   ],
   "source": [
    "node_measures = ns.measure_nodes(H)\n",
    "network_measures = ns.measure_network(H)\n",
    "\n",
    "print('Node measures')\n",
    "print_dict(node_measures)\n",
    "print('Network measures')\n",
    "print_dict(network_measures)\n",
    "\n",
    "gen_degrees, gen_weights = ns.analyse_graph(H) # changed variable name to stop throwing off optimize_scale function\n",
    "\n",
    "figure, axis = plt.subplots(1, 2)\n",
    "figure.set_figwidth(12)\n",
    "\n",
    "axis[0].hist(gen_degrees, bins = 8, density = 1)\n",
    "axis[0].set_title('Degree dist')\n",
    "\n",
    "axis[1].hist(gen_weights, bins = 30, density = 1)\n",
    "axis[1].set_title('Weight dist')\n",
    "axis[1].set_xscale('log')\n",
    "axis[1].set_yscale('log')\n",
    "plt.show()"
   ]
  },
  {
   "cell_type": "code",
   "execution_count": null,
   "metadata": {},
   "outputs": [
    {
     "name": "stdout",
     "output_type": "stream",
     "text": [
      "493\n"
     ]
    }
   ],
   "source": [
    "# Shows that extra components of generated graph are singular nodes (i don't know\n",
    "# this is happening in the configuration model), the number of extra components\n",
    "# is equal to the number of times \"what the dog doin is printed\" which occurs when\n",
    "# the graph has nodes with no connections, meaning the degree distribution is\n",
    "# generating 0's so simply need to remove these.\n",
    "\n",
    "components = list(nx.connected_components(H))\n",
    "for component in components:\n",
    "    print(len(component))\n"
   ]
  },
  {
   "cell_type": "code",
   "execution_count": null,
   "metadata": {},
   "outputs": [
    {
     "name": "stdout",
     "output_type": "stream",
     "text": [
      "0\n",
      "1\n",
      "2\n",
      "3\n",
      "4\n"
     ]
    },
    {
     "data": {
      "image/png": "[encoded data removed]",
      "text/plain": [
       "<Figure size 432x288 with 1 Axes>"
      ]
     },
     "metadata": {
      "needs_background": "light"
     },
     "output_type": "display_data"
    },
    {
     "name": "stdout",
     "output_type": "stream",
     "text": [
      "0\n",
      "1\n",
      "2\n",
      "3\n",
      "4\n"
     ]
    },
    {
     "data": {
      "image/png": "[encoded data removed]",
      "text/plain": [
       "<Figure size 432x288 with 1 Axes>"
      ]
     },
     "metadata": {
      "needs_background": "light"
     },
     "output_type": "display_data"
    }
   ],
   "source": [
    "import SI_model_nx as si\n",
    "\n",
    "simulation_params = {}\n",
    "simulation_params['Time'] = 50\n",
    "simulation_params['Initial'] = 0.05\n",
    "simulation_params['Beta'] = 0.6\n",
    "simulation_params['Runs'] = 5\n",
    "simulation_params['Threshold'] = 100\n",
    "simulation_params['Increment'] = 0.1\n",
    "\n",
    "si.SI_comparison(G, simulation_params, 'Original')\n",
    "si.SI_comparison(H, simulation_params, 'Upscaled')"
   ]
  }
 ],
 "metadata": {
  "kernelspec": {
   "display_name": "base",
   "language": "python",
   "name": "python3"
  },
  "language_info": {
   "codemirror_mode": {
    "name": "ipython",
    "version": 3
   },
   "file_extension": ".py",
   "mimetype": "text/x-python",
   "name": "python",
   "nbconvert_exporter": "python",
   "pygments_lexer": "ipython3",
   "version": "3.9.12"
  },
  "orig_nbformat": 4,
  "vscode": {
   "interpreter": {
    "hash": "25e1ce75cfb12f047913573b7bc7a98ece3d58460e313b6b0bb12faf016c0990"
   }
  }
 },
 "nbformat": 4,
 "nbformat_minor": 2
}
