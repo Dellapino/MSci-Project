{
 "cells": [
  {
   "cell_type": "code",
   "execution_count": 1,
   "metadata": {},
   "outputs": [],
   "source": [
    "import network_manipulation as nm\n",
    "import network_stats as ns\n",
    "import numpy as np\n",
    "from scipy.optimize import curve_fit\n",
    "import matplotlib.pyplot as plt\n",
    "\n",
    "dataset_paths = [\n",
    "'Sociopatterns datasets/conference_2009.dat_',\n",
    "'Sociopatterns datasets/highschool_2011.csv',\n",
    "'Sociopatterns datasets/highschool_2012.csv',\n",
    "'Sociopatterns datasets/highschool_2013.csv',\n",
    "'Sociopatterns datasets/hospital_2010.dat_',\n",
    "'Sociopatterns datasets/primaryschool_2014.csv',\n",
    "'Sociopatterns datasets/workplace_2013.dat',\n",
    "'Sociopatterns datasets/workplace_2015.dat_']\n",
    "\n",
    "dataset_names = [\n",
    "    'Conference 1', \n",
    "    'Highschool 1', \n",
    "    'Highschool 2', \n",
    "    'Highschool 3', \n",
    "    'Hospital 1', \n",
    "    'Primaryschool 1', \n",
    "    'Workplace 1', \n",
    "    'Workplace 2']"
   ]
  },
  {
   "cell_type": "code",
   "execution_count": 2,
   "metadata": {},
   "outputs": [],
   "source": [
    "G = nm.build_nxgraph(dataset_paths[0], False) \n",
    "degrees, weights = ns.analyse_graph(G)\n",
    "\n",
    "x, y = ns.log_binning(weights, 1.97, False) # using scale = 1.97 as this is known to be the best value from previous testing\n",
    "fit, cov = curve_fit(ns.weight_func, x, y)\n"
   ]
  },
  {
   "cell_type": "code",
   "execution_count": 3,
   "metadata": {},
   "outputs": [
    {
     "data": {
      "text/plain": [
       "1220"
      ]
     },
     "execution_count": 3,
     "metadata": {},
     "output_type": "execute_result"
    }
   ],
   "source": [
    "norm = max(weights)\n",
    "norm"
   ]
  },
  {
   "cell_type": "code",
   "execution_count": 7,
   "metadata": {},
   "outputs": [
    {
     "data": {
      "text/plain": [
       "7.345635128071092"
      ]
     },
     "execution_count": 7,
     "metadata": {},
     "output_type": "execute_result"
    }
   ],
   "source": [
    "avg1 = ns.average_interaction_1(weights)\n",
    "avg1"
   ]
  },
  {
   "cell_type": "code",
   "execution_count": 5,
   "metadata": {},
   "outputs": [
    {
     "data": {
      "text/plain": [
       "11537.392657919016"
      ]
     },
     "execution_count": 5,
     "metadata": {},
     "output_type": "execute_result"
    }
   ],
   "source": [
    "avg2 = ns.average_interaction_2(fit)\n",
    "avg2"
   ]
  },
  {
   "cell_type": "code",
   "execution_count": 6,
   "metadata": {},
   "outputs": [
    {
     "data": {
      "text/plain": [
       "128.9875630477937"
      ]
     },
     "execution_count": 6,
     "metadata": {},
     "output_type": "execute_result"
    }
   ],
   "source": [
    "avg3 = ns.average_interaction_3(fit)\n",
    "avg3"
   ]
  },
  {
   "cell_type": "code",
   "execution_count": null,
   "metadata": {},
   "outputs": [],
   "source": [
    "# https://www.galaxydx.com/pathogen-infectious-dose-and-the-risk-of-vector-borne-disease-transmission/\n",
    "# Gives some idea about what is considered an infectious dose with references\n",
    "# \"The dose matters in determining whether an infection can take hold and seemingly how severe the resulting disease will be.\"\n",
    "\n",
    "# In the case of Covid-19, we see that a contact is defined as:\n",
    "# Close Contact through proximity and duration of exposure: Someone who was less than 6 feet away from an infected person (laboratory-confirmed or a clinical diagnosis) for a total of 15 minutes or more over a 24-hour period (for example, three separate 5-minute exposures for a total of 15 minutes).\n",
    "# This is relevant to a proper implementation of the IF model as neurons cannot be expected to remain firing, rather they should fire once and thats it\n",
    "\n",
    "# Based on our dataset where we have time intervals for interaction, we can estimate the threshold to be (15*3) * number of days\n",
    "# Whatever is above this is an infected node\n",
    "# We must also consider if we want any multiplocative factors on top of interaction\n",
    "# Perhaps making a relation between threshold and some measure of interaction strenght\n",
    "\n",
    "# I believe we'll been a relatively slow decay (SIR) to account for the multiple firings\n",
    "\n",
    "# Now thinking about what the calculation of averge interaction waas supposed to inform\n",
    "# it was meant to define a characteristic scale which I could mulitply by some Th\n",
    "# to get a value for the threshold, as we possess another metric for defining the threshold\n",
    "\n",
    "# the NHS defines the time to get infected as 15 mins of contact spread throughout 24 hours\n",
    "# In the datasets I'm using, the interection data is spread over 12 days so there may not be\n",
    "# a lot of contact but spread out such that there is not 15 mins of contact withing 1 days \n",
    "# for some connections but a lot more than 15 mins of total contact\n",
    "# so should take this metric and manipulate it to inform a threshold appropriate\n",
    "# for all networks in the sense do not base it on interaction time but rather convert this to\n",
    "# some value or expressions for infection threshold.\n",
    "\n",
    "# I must admit my dataset are very accomodating of such a definition of threshold\n",
    "# by making a more standardised definition I will be able to apply it to any dataset\n",
    "# even those not defined in terms of interaction time between nodes.\n",
    "\n"
   ]
  }
 ],
 "metadata": {
  "kernelspec": {
   "display_name": "base",
   "language": "python",
   "name": "python3"
  },
  "language_info": {
   "codemirror_mode": {
    "name": "ipython",
    "version": 3
   },
   "file_extension": ".py",
   "mimetype": "text/x-python",
   "name": "python",
   "nbconvert_exporter": "python",
   "pygments_lexer": "ipython3",
   "version": "3.9.12"
  },
  "orig_nbformat": 4,
  "vscode": {
   "interpreter": {
    "hash": "25e1ce75cfb12f047913573b7bc7a98ece3d58460e313b6b0bb12faf016c0990"
   }
  }
 },
 "nbformat": 4,
 "nbformat_minor": 2
}
