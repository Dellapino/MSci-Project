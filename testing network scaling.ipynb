{
 "cells": [
  {
   "attachments": {},
   "cell_type": "markdown",
   "metadata": {},
   "source": [
    "The aim of this notebook is to verify that the fit found for the degree and weight distribustion is working as intended.\n",
    "\n",
    "We do see some agreement between the analytical and upscaled networks but I am hesitant to jump for joy as I know this will be for a limited parameter space ...\n",
    "\n",
    "In reality the weight disst being generated here probably has too high an average to be representitive of the original case."
   ]
  },
  {
   "cell_type": "code",
   "execution_count": 1,
   "metadata": {},
   "outputs": [],
   "source": [
    "import network_manipulation as nm\n",
    "import network_stats as ns\n",
    "import numpy as np\n",
    "\n",
    "dataset_paths = [\n",
    "'Sociopatterns datasets/conference_2009.dat_',\n",
    "'Sociopatterns datasets/highschool_2011.csv',\n",
    "'Sociopatterns datasets/highschool_2012.csv',\n",
    "'Sociopatterns datasets/highschool_2013.csv',\n",
    "'Sociopatterns datasets/hospital_2010.dat_',\n",
    "'Sociopatterns datasets/primaryschool_2014.csv',\n",
    "'Sociopatterns datasets/workplace_2013.dat',\n",
    "'Sociopatterns datasets/workplace_2015.dat_']\n",
    "\n",
    "dataset_names = [\n",
    "    'Conference 1', \n",
    "    'Highschool 1', \n",
    "    'Highschool 2', \n",
    "    'Highschool 3', \n",
    "    'Hospital 1', \n",
    "    'Primaryschool 1', \n",
    "    'Workplace 1', \n",
    "    'Workplace 2']"
   ]
  },
  {
   "cell_type": "code",
   "execution_count": 2,
   "metadata": {},
   "outputs": [
    {
     "name": "stdout",
     "output_type": "stream",
     "text": [
      "Normalised weights\n",
      "[69, 82, 60, 95, 38]\n",
      "[0.013934426229508197, 0.001639344262295082, 0.000819672131147541, 0.02540983606557377, 0.003278688524590164]\n",
      "\n",
      " Free weights\n",
      "[69, 82, 60, 95, 38]\n",
      "[17, 2, 1, 31, 4]\n"
     ]
    },
    {
     "data": {
      "text/plain": [
       "'\\n# comparison of networkx and stock python\\n\\npath = dataset_paths[0]\\nn = nm.build_network(path)\\ndd = nm.degree_dist(n)\\n\\nplt.figure()\\nplt.hist(dd)\\nplt.figure()\\nplt.hist(degrees)\\n'"
      ]
     },
     "execution_count": 2,
     "metadata": {},
     "output_type": "execute_result"
    }
   ],
   "source": [
    "H = nm.build_nxgraph(dataset_paths[0], True)\n",
    "\n",
    "norm_degrees, norm_weights = ns.analyse_graph(H)\n",
    "print('Normalised weights')\n",
    "print(norm_degrees[0:5])\n",
    "print(norm_weights[0:5])\n",
    "\n",
    "G = nm.build_nxgraph(dataset_paths[0], False) \n",
    "\n",
    "degrees, weights = ns.analyse_graph(G)\n",
    "\n",
    "print('\\n Free weights') # gym joke haha\n",
    "print(degrees[0:5])\n",
    "print(weights[0:5])\n",
    "\n",
    "'''\n",
    "# comparison of networkx and stock python\n",
    "\n",
    "path = dataset_paths[0]\n",
    "n = nm.build_network(path)\n",
    "dd = nm.degree_dist(n)\n",
    "\n",
    "plt.figure()\n",
    "plt.hist(dd)\n",
    "plt.figure()\n",
    "plt.hist(degrees)\n",
    "'''\n"
   ]
  },
  {
   "attachments": {},
   "cell_type": "markdown",
   "metadata": {},
   "source": [
    "FITTING TO WEIGHT DIST"
   ]
  },
  {
   "cell_type": "code",
   "execution_count": 4,
   "metadata": {},
   "outputs": [
    {
     "data": {
      "image/png": "[encoded data removed]",
      "text/plain": [
       "<Figure size 432x288 with 1 Axes>"
      ]
     },
     "metadata": {
      "needs_background": "light"
     },
     "output_type": "display_data"
    },
    {
     "data": {
      "text/plain": [
       "(array([ 1.60159911e+04, -8.08602749e-01]), array([4.26929428, 2.54719899]))"
      ]
     },
     "execution_count": 4,
     "metadata": {},
     "output_type": "execute_result"
    }
   ],
   "source": [
    "ns.check_fit(ns.weight_func, ns.log_binning, weights, [2.97, False] , False, True, 'log')\n"
   ]
  },
  {
   "cell_type": "code",
   "execution_count": 5,
   "metadata": {},
   "outputs": [
    {
     "name": "stdout",
     "output_type": "stream",
     "text": [
      "  best scaling factor    best average error\n",
      "---------------------  --------------------\n",
      "                  2.8                  4.23\n"
     ]
    },
    {
     "data": {
      "text/plain": [
       "(2.800000000000001, 4.227722840657332)"
      ]
     },
     "execution_count": 5,
     "metadata": {},
     "output_type": "execute_result"
    }
   ],
   "source": [
    "scaly = np.arange(1.5, 3.1, 0.1)\n",
    "ns.compare_scale(ns.weight_func, weights, scaly, False, False)"
   ]
  },
  {
   "cell_type": "code",
   "execution_count": 3,
   "metadata": {},
   "outputs": [
    {
     "name": "stdout",
     "output_type": "stream",
     "text": [
      "  best scaling factor    best average error\n",
      "---------------------  --------------------\n",
      "                 1.97                  2.48\n"
     ]
    }
   ],
   "source": [
    "scaly = np.arange(1.5, 3.0, 0.01)\n",
    "scale, _ = ns.compare_scale(ns.weight_func, weights, scaly, False, False)"
   ]
  },
  {
   "cell_type": "code",
   "execution_count": 7,
   "metadata": {},
   "outputs": [
    {
     "ename": "NameError",
     "evalue": "name 'curve_fit' is not defined",
     "output_type": "error",
     "traceback": [
      "\u001b[0;31m---------------------------------------------------------------------------\u001b[0m",
      "\u001b[0;31mNameError\u001b[0m                                 Traceback (most recent call last)",
      "\u001b[1;32m/Users/ali/MSci Project/testing network scaling.ipynb Cell 7\u001b[0m in \u001b[0;36m<cell line: 2>\u001b[0;34m()\u001b[0m\n\u001b[1;32m      <a href='vscode-notebook-cell:/Users/ali/MSci%20Project/testing%20network%20scaling.ipynb#W6sZmlsZQ%3D%3D?line=0'>1</a>\u001b[0m x, y \u001b[39m=\u001b[39m ns\u001b[39m.\u001b[39mlog_binning(weights, \u001b[39m2.8\u001b[39m, \u001b[39mFalse\u001b[39;00m)\n\u001b[0;32m----> <a href='vscode-notebook-cell:/Users/ali/MSci%20Project/testing%20network%20scaling.ipynb#W6sZmlsZQ%3D%3D?line=1'>2</a>\u001b[0m fit, cov \u001b[39m=\u001b[39m curve_fit(ns\u001b[39m.\u001b[39mweight_func, x, y)\n\u001b[1;32m      <a href='vscode-notebook-cell:/Users/ali/MSci%20Project/testing%20network%20scaling.ipynb#W6sZmlsZQ%3D%3D?line=3'>4</a>\u001b[0m \u001b[39m#plt.plot(x, y)\u001b[39;00m\n\u001b[1;32m      <a href='vscode-notebook-cell:/Users/ali/MSci%20Project/testing%20network%20scaling.ipynb#W6sZmlsZQ%3D%3D?line=5'>6</a>\u001b[0m \u001b[39mclass\u001b[39;00m \u001b[39mdistribution\u001b[39;00m(sps\u001b[39m.\u001b[39mrv_continuous): \n",
      "\u001b[0;31mNameError\u001b[0m: name 'curve_fit' is not defined"
     ]
    }
   ],
   "source": [
    "x, y = ns.log_binning(weights, 2.8, False)\n",
    "fit, cov = curve_fit(ns.weight_func, x, y)\n",
    "\n",
    "#plt.plot(x, y)\n",
    "\n",
    "class distribution(sps.rv_continuous): \n",
    "    def _pdf(self, x):\n",
    "        return ns.weight_func(x, *fit)\n",
    "\n",
    "dist = distribution(a=0)\n",
    "samples = dist.rvs(size = 100)\n",
    "#samples = np.ceil(samples)\n",
    "#freqs, edegs, _ = plt.hist(samples, bins = 50, density = 0)\n",
    "\n",
    "x , y = ns.linear_binning(samples, 10, False)\n",
    "plt.plot(x, y)"
   ]
  },
  {
   "cell_type": "code",
   "execution_count": null,
   "metadata": {},
   "outputs": [
    {
     "data": {
      "image/png": "[encoded data removed]",
      "text/plain": [
       "<Figure size 432x288 with 1 Axes>"
      ]
     },
     "metadata": {
      "needs_background": "light"
     },
     "output_type": "display_data"
    }
   ],
   "source": [
    "import matplotlib.pyplot as plt\n",
    "\n",
    "wfit, _ = ns.check_fit(ns.weight_func, ns.log_binning, weights, [scale, False])\n",
    "\n",
    "sample_dist = ns.weight_distribution(a = 0)\n",
    "samples = sample_dist.rvs( a = wfit[0] ,b = wfit[1], size = 1000)\n",
    "freqs, edges, _ = plt.hist(samples, bins = 20, density = 0)\n",
    "plt.yscale('log')\n",
    "plt.xscale('log')\n",
    "\n",
    "# While I managing to generate a distribution, unfortunately the weights are\n",
    "# on the order e-10 where i expected whole numbers as I am working in an \n",
    "# un-normalized regime\n",
    "\n",
    "# further, there are some parameter combinations, which can cause a lack of\n",
    "# convegence and hence a lack of a distribution, this can occur for the supposeded\n",
    "# optimum scale,"
   ]
  },
  {
   "cell_type": "code",
   "execution_count": 5,
   "metadata": {},
   "outputs": [
    {
     "data": {
      "image/png": "[encoded data removed]",
      "text/plain": [
       "<Figure size 432x288 with 1 Axes>"
      ]
     },
     "metadata": {
      "needs_background": "light"
     },
     "output_type": "display_data"
    },
    {
     "data": {
      "image/png": "[encoded data removed]",
      "text/plain": [
       "<Figure size 432x288 with 1 Axes>"
      ]
     },
     "metadata": {
      "needs_background": "light"
     },
     "output_type": "display_data"
    }
   ],
   "source": [
    "# Generating weight samples, it looks like a power law may not be the answer\n",
    "# as there is a shallower gradient on where the graph is dying out, perhaps this\n",
    "# is ok as a larger graph will lead to more connections but regardless this does\n",
    "# not fit the distibution exactly \n",
    "\n",
    "# However we see much better performance when choosing optimum scale\n",
    "\n",
    "# further, normalisation is dominated by a small frequency of very large values\n",
    "\n",
    "from scipy.optimize import curve_fit\n",
    "import matplotlib.pyplot as plt\n",
    "\n",
    "# idea from https://stats.stackexchange.com/questions/173242/random-sample-from-power-law-distribution\n",
    "\n",
    "def inverse_weight_func(x, a, b):\n",
    "    return (x/a) ** (1/b)\n",
    "\n",
    "x, y = ns.log_binning(weights, scale, False)\n",
    "fit, cov = curve_fit(ns.weight_func, x, y)\n",
    "\n",
    "randys = np.random.randint(1, 1000, size = 100000) # not sure about this [SUPERVISOR]\n",
    "#randys = np.random.rand(100000)\n",
    "weight_samples = inverse_weight_func(randys, *fit)\n",
    "\n",
    "plt.figure()\n",
    "plt.hist(weights, bins = 1000, density = 1)\n",
    "plt.title('original')\n",
    "plt.yscale('log')\n",
    "plt.xscale('log')\n",
    "\n",
    "plt.figure()\n",
    "plt.hist(weight_samples, bins = 1000, density = 1)\n",
    "plt.title('Samples')\n",
    "plt.yscale('log')\n",
    "plt.xscale('log')\n",
    "\n",
    "norm = max(weight_samples)\n",
    "weight_samples = weight_samples / norm\n",
    "\n",
    "# for some reason, calculating fit using check_fit gives differnet parameter estimate\n",
    "# than doing so manually, at least for the degree distribution [INVESTIGATE]"
   ]
  },
  {
   "cell_type": "code",
   "execution_count": 9,
   "metadata": {},
   "outputs": [
    {
     "data": {
      "text/plain": [
       "[<matplotlib.lines.Line2D at 0x7fdd88d32700>]"
      ]
     },
     "execution_count": 9,
     "metadata": {},
     "output_type": "execute_result"
    },
    {
     "data": {
      "image/png": "[encoded data removed]",
      "text/plain": [
       "<Figure size 432x288 with 1 Axes>"
      ]
     },
     "metadata": {
      "needs_background": "light"
     },
     "output_type": "display_data"
    }
   ],
   "source": [
    "x = np.arange(1, 500, 2)\n",
    "y = inverse_weight_func(x, fit[0], fit[1])\n",
    "plt.plot(x,y)"
   ]
  },
  {
   "attachments": {},
   "cell_type": "markdown",
   "metadata": {},
   "source": [
    "FITTING TO DEGREE DIST"
   ]
  },
  {
   "cell_type": "code",
   "execution_count": null,
   "metadata": {},
   "outputs": [
    {
     "name": "stderr",
     "output_type": "stream",
     "text": [
      "/Users/ali/MSci Project/network_stats.py:98: RuntimeWarning: overflow encountered in power\n",
      "  return (x**a) / np.exp(b*x+c)\n",
      "/Users/ali/MSci Project/network_stats.py:98: RuntimeWarning: divide by zero encountered in true_divide\n",
      "  return (x**a) / np.exp(b*x+c)\n",
      "/Users/ali/MSci Project/network_stats.py:98: RuntimeWarning: overflow encountered in true_divide\n",
      "  return (x**a) / np.exp(b*x+c)\n"
     ]
    },
    {
     "data": {
      "image/png": "[encoded data removed]",
      "text/plain": [
       "<Figure size 432x288 with 1 Axes>"
      ]
     },
     "metadata": {
      "needs_background": "light"
     },
     "output_type": "display_data"
    },
    {
     "data": {
      "image/png": "[encoded data removed]",
      "text/plain": [
       "<Figure size 432x288 with 1 Axes>"
      ]
     },
     "metadata": {
      "needs_background": "light"
     },
     "output_type": "display_data"
    }
   ],
   "source": [
    "dfit, _ = ns.check_fit(ns.degree_func, ns.linear_binning, degrees, [8, False], False, True, 'log')\n",
    "\n",
    "sample_dist = ns.degree_distribution(a = 0)\n",
    "samples = sample_dist.rvs(a = dfit[0], b = dfit[1], c = dfit[2], size = 1000)\n",
    "freqs, edges, _ = plt.hist(samples, bins = 20, density = 0)\n",
    "#plt.yscale('log')\n",
    "#plt.xscale('log')\n",
    "\n",
    "# for some reason the generated distribution, which was previously perfirming well\n",
    "# has now completely cahnged form"
   ]
  },
  {
   "cell_type": "code",
   "execution_count": 6,
   "metadata": {},
   "outputs": [
    {
     "data": {
      "text/plain": [
       "<matplotlib.legend.Legend at 0x7f81c160fc40>"
      ]
     },
     "execution_count": 6,
     "metadata": {},
     "output_type": "execute_result"
    },
    {
     "data": {
      "image/png": "[encoded data removed]",
      "text/plain": [
       "<Figure size 432x288 with 1 Axes>"
      ]
     },
     "metadata": {
      "needs_background": "light"
     },
     "output_type": "display_data"
    }
   ],
   "source": [
    "# degrees scaled up to 1000 nodes (success)\n",
    "\n",
    "from scipy.optimize import curve_fit\n",
    "import scipy.stats as sps\n",
    "\n",
    "x, y = ns.linear_binning(degrees, 8, 1)\n",
    "fit, cov = curve_fit(ns.degree_func, x, y)\n",
    "\n",
    "# for some reason this works better than versionn in ns\n",
    "        \n",
    "class degree_distribution(sps.rv_continuous): #\n",
    "    def _pdf(self, x):\n",
    "        return ns.degree_func(x, *fit)\n",
    "\n",
    "\n",
    "ddist = degree_distribution(a=0)\n",
    "degree_samples = ddist.rvs(size = 1000)\n",
    "degree_samples = np.ceil(degree_samples).astype(int)\n",
    "\n",
    "plt.figure()\n",
    "plt.plot(x, y, 'x', label = 'data')\n",
    "\n",
    "sample_x, sample_y = ns.linear_binning(degree_samples, 32, 1)\n",
    "plt.plot(sample_x, sample_y, label = 'fit')\n",
    "\n",
    "plt.legend(loc = 'upper right')\n"
   ]
  },
  {
   "cell_type": "code",
   "execution_count": 7,
   "metadata": {},
   "outputs": [
    {
     "name": "stdout",
     "output_type": "stream",
     "text": [
      "What the dog doin\n",
      "What the dog doin\n",
      "What the dog doin\n",
      "What the dog doin\n",
      "What the dog doin\n",
      "What the dog doin\n",
      "What the dog doin\n",
      "What the dog doin\n",
      "What the dog doin\n",
      "What the dog doin\n",
      "What the dog doin\n",
      "What the dog doin\n",
      "What the dog doin\n"
     ]
    }
   ],
   "source": [
    "import networkx as nx\n",
    "\n",
    "x, y = ns.log_binning(weights, scale, False)\n",
    "wfit, wcov = curve_fit(ns.weight_func, x, y)\n",
    "\n",
    "def sample_weights(sample_num):\n",
    "    randys = np.random.randint(1, 1000, size = sample_num)\n",
    "    weight_samples = inverse_weight_func(randys, *wfit)\n",
    "    norm = max(weight_samples)\n",
    "    weight_samples = weight_samples / norm\n",
    "    return weight_samples\n",
    "\n",
    "def set_weights(G):\n",
    "    nodes = list(G.nodes)\n",
    "    for node in nodes:\n",
    "        connections = list(G.neighbors(node))\n",
    "        num_edges = len(connections)\n",
    "        if num_edges == 0:\n",
    "            print('What the dog doin')\n",
    "        else:\n",
    "            weights = sample_weights(len(connections))\n",
    "        for i, connection in enumerate(connections):\n",
    "            G[node][connection]['weight'] = weights[i]\n",
    "    return G            \n",
    "\n",
    "graph = nx.configuration_model(degree_samples, create_using = nx.Graph)\n",
    "graph = set_weights(graph)\n",
    "\n",
    "# There exist some nodes with no connections whatsoever, as this is a very\n",
    "# small proportion of nodes, it should not effect the efficiency of the\n",
    "# algorithm too much and will definately not affect its accuracy as these are simply\n",
    "# not connected to the rest of the network, however, perhaps there can be some \n",
    "# network statistics that can be thrown off [SUPERVISOR]"
   ]
  },
  {
   "cell_type": "code",
   "execution_count": 34,
   "metadata": {},
   "outputs": [
    {
     "name": "stdout",
     "output_type": "stream",
     "text": [
      "[0.07740526 0.0063099  0.01048218 0.0107492  0.11719237 0.01321977\n",
      " 0.02980176 0.02889035 0.00915449 0.0567528  0.00924179 0.02257662\n",
      " 0.02265624 0.009406   0.16033988 0.00817007 0.00827604 0.0108081\n",
      " 0.04033955 0.00661604 0.00644837 0.00825226 0.02108851 0.026555\n",
      " 0.02839283 0.04232834 0.01109121 0.00957581 0.03494548 0.02158775\n",
      " 0.00662386 1.         0.00792152 0.00876687 0.00862296 0.05254333\n",
      " 0.00946708 0.00631705 0.09522311 0.00874037 0.00728297 0.00826413\n",
      " 0.01685304 0.00633859 0.00849595 0.02592262 0.03225826 0.00850849\n",
      " 0.13797993 0.00976777 0.0844751  0.01207961 0.02839283 0.00956013\n",
      " 0.006695   0.01732179 0.00744547 0.01451266 0.01141049 0.00644837\n",
      " 0.20505199 0.00887441 0.0120311  0.00921252 0.14563536 0.00723645\n",
      " 0.00898448 0.05586083 0.01013924 0.01756551 0.00763538 0.02365469\n",
      " 0.01756551 0.05720895 0.00693439 0.04993242 0.00753431 0.0110089\n",
      " 0.0208129  0.02015281 0.00745525 0.01299255 0.00634579 0.00794353\n",
      " 0.00691736 0.03587382 0.01170156 0.01235317 0.00714506 0.00892912\n",
      " 0.1247508  0.02054403 0.04660215 0.04081998 0.11206951 0.00854633\n",
      " 0.05293748 0.2635495  0.01812515 0.04660215]\n"
     ]
    }
   ],
   "source": [
    "arr = sample_weights(100)\n",
    "print(arr)"
   ]
  },
  {
   "cell_type": "code",
   "execution_count": 8,
   "metadata": {},
   "outputs": [
    {
     "name": "stdout",
     "output_type": "stream",
     "text": [
      "0\n",
      "1\n",
      "2\n",
      "3\n",
      "4\n"
     ]
    },
    {
     "data": {
      "image/png": "[encoded data removed]",
      "text/plain": [
       "<Figure size 432x288 with 1 Axes>"
      ]
     },
     "metadata": {
      "needs_background": "light"
     },
     "output_type": "display_data"
    }
   ],
   "source": [
    "# Make this into a function\n",
    "\n",
    "import SI_model_nx as sinx\n",
    "\n",
    "T = 50 # days over which we simulate\n",
    "I = 0.05 # initial infected fraction\n",
    "b = 0.6 # transmission rate of contagion\n",
    "M = 5 # number of runs to smooth model over\n",
    "threshold = 2\n",
    "\n",
    "# can make all of these parameters into a dictionary\n",
    "\n",
    "plt.figure()\n",
    "t = sinx.generate_t(T, 1)\n",
    "model_SI = sinx.smooth(graph, I, threshold, T, M)\n",
    "plt.plot(t, model_SI, label = 'Upscaled network')\n",
    "\n",
    "h = 0.1 # increment\n",
    "t = sinx.generate_t(T, h)\n",
    "c = sinx.integration_const(I)\n",
    "analytic_SI = sinx.analytic_sol(t, b, c) # should be correct ...\n",
    "plt.plot(t, analytic_SI, linewidth = 5, label = 'Analytical')\n",
    "\n",
    "plt.legend(loc = 'lower right')\n",
    "plt.title('Epidemic spread in SI model comparison')\n",
    "plt.show()\n",
    "\n",
    "# Looks like we have to tune the threshold to get agreement with the analytical\n",
    "# solution, should we expect this? [SUPERVISOR]"
   ]
  },
  {
   "cell_type": "code",
   "execution_count": 24,
   "metadata": {},
   "outputs": [
    {
     "name": "stdout",
     "output_type": "stream",
     "text": [
      "0\n",
      "1\n",
      "2\n",
      "3\n",
      "4\n"
     ]
    },
    {
     "data": {
      "image/png": "[encoded data removed]",
      "text/plain": [
       "<Figure size 432x288 with 1 Axes>"
      ]
     },
     "metadata": {
      "needs_background": "light"
     },
     "output_type": "display_data"
    }
   ],
   "source": [
    "# This is a very nice thing\n",
    "\n",
    "import SI_model_nx as sinx\n",
    "\n",
    "simulation_params = {}\n",
    "simulation_params['Time'] = 50\n",
    "simulation_params['Initial'] = 0.05\n",
    "simulation_params['Beta'] = 0.5\n",
    "simulation_params['Runs'] = 5\n",
    "simulation_params['Threshold'] = 2\n",
    "simulation_params['Increment'] = 0.1\n",
    "\n",
    "def SI_comparison(G, params, name = 'Placeholder'):\n",
    "    plt.figure()\n",
    "    sim_activity = sinx.smooth(G, params['Initial'], params['Threshold'], params['Time'], params['Runs'], params['Beta'])\n",
    "    sim_time = np.arange(0, params['Time'], 1)\n",
    "    plt.plot(sim_time, sim_activity, label = name)\n",
    "    \n",
    "    analytic_time = np.arange(0, params['Time'], params['Increment'])\n",
    "    const = sinx.integration_const(params['Initial'])\n",
    "    analytic_activity = sinx.analytic_sol(analytic_time, params['Beta'], const)\n",
    "    plt.plot(analytic_time, analytic_activity, linewidth = 3, label = 'Analytical')\n",
    "    \n",
    "    plt.legend(loc = 'lower right')\n",
    "    plt.title('SI model comparison (beta = ' + str(params['Beta'])+ ') (Threshold = ' + str(params['Threshold']) + ')')\n",
    "    plt.show()\n",
    "    \n",
    "SI_comparison(graph, simulation_params, 'Upscaled')\n",
    "\n",
    "# To note, simulation takes longer to run for higher beta, this makes sense as if \n",
    "# the infection needs to be propagated, there will be more work in updated the graph\n",
    "# can look at have multiple dictionaries / arrays for storing different parts of the\n",
    "# graph such as potential and weight to speed up operation.\n",
    "\n",
    "# We see good agreement for high beta but poor agreement below approx  beta = 0.3\n",
    "# with deviation from ODE especially prominent at early times."
   ]
  },
  {
   "cell_type": "code",
   "execution_count": 32,
   "metadata": {},
   "outputs": [
    {
     "data": {
      "text/plain": [
       "{'weight': 0.016037374147480986}"
      ]
     },
     "execution_count": 32,
     "metadata": {},
     "output_type": "execute_result"
    }
   ],
   "source": [
    "graph[0][740]"
   ]
  }
 ],
 "metadata": {
  "kernelspec": {
   "display_name": "base",
   "language": "python",
   "name": "python3"
  },
  "language_info": {
   "codemirror_mode": {
    "name": "ipython",
    "version": 3
   },
   "file_extension": ".py",
   "mimetype": "text/x-python",
   "name": "python",
   "nbconvert_exporter": "python",
   "pygments_lexer": "ipython3",
   "version": "3.9.12"
  },
  "orig_nbformat": 4,
  "vscode": {
   "interpreter": {
    "hash": "25e1ce75cfb12f047913573b7bc7a98ece3d58460e313b6b0bb12faf016c0990"
   }
  }
 },
 "nbformat": 4,
 "nbformat_minor": 2
}
