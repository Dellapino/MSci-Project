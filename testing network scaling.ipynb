{
 "cells": [
  {
   "cell_type": "code",
   "execution_count": 1,
   "metadata": {},
   "outputs": [],
   "source": [
    "import network_manipulation as nm\n",
    "import network_stats as ns\n",
    "import numpy as np\n",
    "\n",
    "dataset_paths = [\n",
    "'Sociopatterns datasets/conference_2009.dat_',\n",
    "'Sociopatterns datasets/highschool_2011.csv',\n",
    "'Sociopatterns datasets/highschool_2012.csv',\n",
    "'Sociopatterns datasets/highschool_2013.csv',\n",
    "'Sociopatterns datasets/hospital_2010.dat_',\n",
    "'Sociopatterns datasets/primaryschool_2014.csv',\n",
    "'Sociopatterns datasets/workplace_2013.dat',\n",
    "'Sociopatterns datasets/workplace_2015.dat_']\n",
    "\n",
    "dataset_names = [\n",
    "    'Conference 1', \n",
    "    'Highschool 1', \n",
    "    'Highschool 2', \n",
    "    'Highschool 3', \n",
    "    'Hospital 1', \n",
    "    'Primaryschool 1', \n",
    "    'Workplace 1', \n",
    "    'Workplace 2']"
   ]
  },
  {
   "cell_type": "code",
   "execution_count": 2,
   "metadata": {},
   "outputs": [
    {
     "name": "stdout",
     "output_type": "stream",
     "text": [
      "Normalised weights\n",
      "[69, 82, 60, 95, 38]\n",
      "[0.013934426229508197, 0.001639344262295082, 0.000819672131147541, 0.02540983606557377, 0.003278688524590164]\n",
      "\n",
      " Free weights\n",
      "[69, 82, 60, 95, 38]\n",
      "[17, 2, 1, 31, 4]\n"
     ]
    }
   ],
   "source": [
    "H = nm.build_nxgraph(dataset_paths[0], True)\n",
    "\n",
    "norm_degrees, norm_weights = ns.analyse_graph(H)\n",
    "print('Normalised weights')\n",
    "print(norm_degrees[0:5])\n",
    "print(norm_weights[0:5])\n",
    "\n",
    "G = nm.build_nxgraph(dataset_paths[0], False) \n",
    "\n",
    "degrees, weights = ns.analyse_graph(G)\n",
    "\n",
    "print('\\n Free weights') # gym joke haha\n",
    "print(degrees[0:5])\n",
    "print(weights[0:5])"
   ]
  },
  {
   "cell_type": "code",
   "execution_count": 3,
   "metadata": {},
   "outputs": [
    {
     "data": {
      "image/png": "[encoded data removed]",
      "text/plain": [
       "<Figure size 432x288 with 1 Axes>"
      ]
     },
     "metadata": {
      "needs_background": "light"
     },
     "output_type": "display_data"
    },
    {
     "data": {
      "text/plain": [
       "(array([ 1.60159911e+04, -8.08602749e-01]), array([4.26929428, 2.54719899]))"
      ]
     },
     "execution_count": 3,
     "metadata": {},
     "output_type": "execute_result"
    }
   ],
   "source": [
    "ns.check_fit(ns.weight_func, ns.log_binning, weights, [2.97, False] , False, True, 'log')\n"
   ]
  },
  {
   "cell_type": "code",
   "execution_count": 4,
   "metadata": {},
   "outputs": [
    {
     "data": {
      "text/plain": [
       "41.0"
      ]
     },
     "execution_count": 4,
     "metadata": {},
     "output_type": "execute_result"
    }
   ],
   "source": [
    "(47+35)/2"
   ]
  },
  {
   "cell_type": "code",
   "execution_count": 5,
   "metadata": {},
   "outputs": [
    {
     "name": "stdout",
     "output_type": "stream",
     "text": [
      "  best scaling factor    best average error\n",
      "---------------------  --------------------\n",
      "                  2.8                  4.23\n"
     ]
    },
    {
     "data": {
      "text/plain": [
       "(2.800000000000001, 4.227722840657332)"
      ]
     },
     "execution_count": 5,
     "metadata": {},
     "output_type": "execute_result"
    }
   ],
   "source": [
    "scaly = np.arange(1.5, 3.1, 0.1)\n",
    "ns.compare_scale(ns.weight_func, weights, scaly, False, False)"
   ]
  },
  {
   "cell_type": "code",
   "execution_count": 6,
   "metadata": {},
   "outputs": [
    {
     "name": "stdout",
     "output_type": "stream",
     "text": [
      "  best scaling factor    best average error\n",
      "---------------------  --------------------\n",
      "                 2.97                  3.41\n"
     ]
    }
   ],
   "source": [
    "scaly = np.arange(2.8, 3.0, 0.01)\n",
    "scale, _ = ns.compare_scale(ns.weight_func, weights, scaly, False, False)"
   ]
  },
  {
   "cell_type": "code",
   "execution_count": 9,
   "metadata": {},
   "outputs": [
    {
     "ename": "TypeError",
     "evalue": "Value after * must be an iterable, not float",
     "output_type": "error",
     "traceback": [
      "\u001b[0;31m---------------------------------------------------------------------------\u001b[0m",
      "\u001b[0;31mTypeError\u001b[0m                                 Traceback (most recent call last)",
      "\u001b[1;32m/Users/ali/MSci Project/testing network scaling.ipynb Cell 7\u001b[0m in \u001b[0;36m<cell line: 7>\u001b[0;34m()\u001b[0m\n\u001b[1;32m      <a href='vscode-notebook-cell:/Users/ali/MSci%20Project/testing%20network%20scaling.ipynb#X13sZmlsZQ%3D%3D?line=4'>5</a>\u001b[0m sample_dist \u001b[39m=\u001b[39m ns\u001b[39m.\u001b[39mweight_distribution(a \u001b[39m=\u001b[39m \u001b[39m0\u001b[39m)\n\u001b[1;32m      <a href='vscode-notebook-cell:/Users/ali/MSci%20Project/testing%20network%20scaling.ipynb#X13sZmlsZQ%3D%3D?line=5'>6</a>\u001b[0m \u001b[39m#sample_dist.pdf(fit)\u001b[39;00m\n\u001b[0;32m----> <a href='vscode-notebook-cell:/Users/ali/MSci%20Project/testing%20network%20scaling.ipynb#X13sZmlsZQ%3D%3D?line=6'>7</a>\u001b[0m samples \u001b[39m=\u001b[39m sample_dist\u001b[39m.\u001b[39;49mrvs(fit \u001b[39m=\u001b[39;49m wfit, size \u001b[39m=\u001b[39;49m \u001b[39m2\u001b[39;49m)\n\u001b[1;32m      <a href='vscode-notebook-cell:/Users/ali/MSci%20Project/testing%20network%20scaling.ipynb#X13sZmlsZQ%3D%3D?line=7'>8</a>\u001b[0m samples \u001b[39m=\u001b[39m np\u001b[39m.\u001b[39mceil(samples)\n\u001b[1;32m      <a href='vscode-notebook-cell:/Users/ali/MSci%20Project/testing%20network%20scaling.ipynb#X13sZmlsZQ%3D%3D?line=8'>9</a>\u001b[0m freqs, edegs, _ \u001b[39m=\u001b[39m plt\u001b[39m.\u001b[39mhist(samples, bins \u001b[39m=\u001b[39m \u001b[39m50\u001b[39m, density \u001b[39m=\u001b[39m \u001b[39m0\u001b[39m)\n",
      "File \u001b[0;32m~/opt/anaconda3/lib/python3.9/site-packages/scipy/stats/_distn_infrastructure.py:1092\u001b[0m, in \u001b[0;36mrv_generic.rvs\u001b[0;34m(self, *args, **kwds)\u001b[0m\n\u001b[1;32m   1090\u001b[0m     vals \u001b[39m=\u001b[39m \u001b[39mself\u001b[39m\u001b[39m.\u001b[39m_rvs(\u001b[39m*\u001b[39margs)\n\u001b[1;32m   1091\u001b[0m \u001b[39melse\u001b[39;00m:\n\u001b[0;32m-> 1092\u001b[0m     vals \u001b[39m=\u001b[39m \u001b[39mself\u001b[39;49m\u001b[39m.\u001b[39;49m_rvs(\u001b[39m*\u001b[39;49margs, size\u001b[39m=\u001b[39;49msize, random_state\u001b[39m=\u001b[39;49mrandom_state)\n\u001b[1;32m   1094\u001b[0m vals \u001b[39m=\u001b[39m vals \u001b[39m*\u001b[39m scale \u001b[39m+\u001b[39m loc\n\u001b[1;32m   1096\u001b[0m \u001b[39m# do not forget to restore the _random_state\u001b[39;00m\n",
      "File \u001b[0;32m~/opt/anaconda3/lib/python3.9/site-packages/scipy/stats/_distn_infrastructure.py:1010\u001b[0m, in \u001b[0;36mrv_generic._rvs\u001b[0;34m(self, size, random_state, *args)\u001b[0m\n\u001b[1;32m   1002\u001b[0m \u001b[39mdef\u001b[39;00m \u001b[39m_rvs\u001b[39m(\u001b[39mself\u001b[39m, \u001b[39m*\u001b[39margs, size\u001b[39m=\u001b[39m\u001b[39mNone\u001b[39;00m, random_state\u001b[39m=\u001b[39m\u001b[39mNone\u001b[39;00m):\n\u001b[1;32m   1003\u001b[0m     \u001b[39m# This method must handle size being a tuple, and it must\u001b[39;00m\n\u001b[1;32m   1004\u001b[0m     \u001b[39m# properly broadcast *args and size.  size might be\u001b[39;00m\n\u001b[0;32m   (...)\u001b[0m\n\u001b[1;32m   1007\u001b[0m \n\u001b[1;32m   1008\u001b[0m     \u001b[39m# Use basic inverse cdf algorithm for RV generation as default.\u001b[39;00m\n\u001b[1;32m   1009\u001b[0m     U \u001b[39m=\u001b[39m random_state\u001b[39m.\u001b[39muniform(size\u001b[39m=\u001b[39msize)\n\u001b[0;32m-> 1010\u001b[0m     Y \u001b[39m=\u001b[39m \u001b[39mself\u001b[39;49m\u001b[39m.\u001b[39;49m_ppf(U, \u001b[39m*\u001b[39;49margs)\n\u001b[1;32m   1011\u001b[0m     \u001b[39mreturn\u001b[39;00m Y\n",
      "File \u001b[0;32m~/opt/anaconda3/lib/python3.9/site-packages/scipy/stats/_distn_infrastructure.py:1025\u001b[0m, in \u001b[0;36mrv_generic._ppf\u001b[0;34m(self, q, *args)\u001b[0m\n\u001b[1;32m   1024\u001b[0m \u001b[39mdef\u001b[39;00m \u001b[39m_ppf\u001b[39m(\u001b[39mself\u001b[39m, q, \u001b[39m*\u001b[39margs):\n\u001b[0;32m-> 1025\u001b[0m     \u001b[39mreturn\u001b[39;00m \u001b[39mself\u001b[39;49m\u001b[39m.\u001b[39;49m_ppfvec(q, \u001b[39m*\u001b[39;49margs)\n",
      "File \u001b[0;32m~/opt/anaconda3/lib/python3.9/site-packages/numpy/lib/function_base.py:2163\u001b[0m, in \u001b[0;36mvectorize.__call__\u001b[0;34m(self, *args, **kwargs)\u001b[0m\n\u001b[1;32m   2160\u001b[0m     vargs \u001b[39m=\u001b[39m [args[_i] \u001b[39mfor\u001b[39;00m _i \u001b[39min\u001b[39;00m inds]\n\u001b[1;32m   2161\u001b[0m     vargs\u001b[39m.\u001b[39mextend([kwargs[_n] \u001b[39mfor\u001b[39;00m _n \u001b[39min\u001b[39;00m names])\n\u001b[0;32m-> 2163\u001b[0m \u001b[39mreturn\u001b[39;00m \u001b[39mself\u001b[39;49m\u001b[39m.\u001b[39;49m_vectorize_call(func\u001b[39m=\u001b[39;49mfunc, args\u001b[39m=\u001b[39;49mvargs)\n",
      "File \u001b[0;32m~/opt/anaconda3/lib/python3.9/site-packages/numpy/lib/function_base.py:2246\u001b[0m, in \u001b[0;36mvectorize._vectorize_call\u001b[0;34m(self, func, args)\u001b[0m\n\u001b[1;32m   2243\u001b[0m \u001b[39m# Convert args to object arrays first\u001b[39;00m\n\u001b[1;32m   2244\u001b[0m inputs \u001b[39m=\u001b[39m [asanyarray(a, dtype\u001b[39m=\u001b[39m\u001b[39mobject\u001b[39m) \u001b[39mfor\u001b[39;00m a \u001b[39min\u001b[39;00m args]\n\u001b[0;32m-> 2246\u001b[0m outputs \u001b[39m=\u001b[39m ufunc(\u001b[39m*\u001b[39;49minputs)\n\u001b[1;32m   2248\u001b[0m \u001b[39mif\u001b[39;00m ufunc\u001b[39m.\u001b[39mnout \u001b[39m==\u001b[39m \u001b[39m1\u001b[39m:\n\u001b[1;32m   2249\u001b[0m     res \u001b[39m=\u001b[39m asanyarray(outputs, dtype\u001b[39m=\u001b[39motypes[\u001b[39m0\u001b[39m])\n",
      "File \u001b[0;32m~/opt/anaconda3/lib/python3.9/site-packages/scipy/stats/_distn_infrastructure.py:1805\u001b[0m, in \u001b[0;36mrv_continuous._ppf_single\u001b[0;34m(self, q, *args)\u001b[0m\n\u001b[1;32m   1803\u001b[0m \u001b[39mif\u001b[39;00m np\u001b[39m.\u001b[39misinf(right):\n\u001b[1;32m   1804\u001b[0m     right \u001b[39m=\u001b[39m \u001b[39mmax\u001b[39m(factor, left)\n\u001b[0;32m-> 1805\u001b[0m     \u001b[39mwhile\u001b[39;00m \u001b[39mself\u001b[39;49m\u001b[39m.\u001b[39;49m_ppf_to_solve(right, q, \u001b[39m*\u001b[39;49margs) \u001b[39m<\u001b[39m \u001b[39m0.\u001b[39m:\n\u001b[1;32m   1806\u001b[0m         left, right \u001b[39m=\u001b[39m right, right \u001b[39m*\u001b[39m factor\n\u001b[1;32m   1807\u001b[0m     \u001b[39m# right is now such that cdf(right) >= q\u001b[39;00m\n",
      "File \u001b[0;32m~/opt/anaconda3/lib/python3.9/site-packages/scipy/stats/_distn_infrastructure.py:1790\u001b[0m, in \u001b[0;36mrv_continuous._ppf_to_solve\u001b[0;34m(self, x, q, *args)\u001b[0m\n\u001b[1;32m   1789\u001b[0m \u001b[39mdef\u001b[39;00m \u001b[39m_ppf_to_solve\u001b[39m(\u001b[39mself\u001b[39m, x, q, \u001b[39m*\u001b[39margs):\n\u001b[0;32m-> 1790\u001b[0m     \u001b[39mreturn\u001b[39;00m \u001b[39mself\u001b[39;49m\u001b[39m.\u001b[39;49mcdf(\u001b[39m*\u001b[39;49m(x, )\u001b[39m+\u001b[39;49margs)\u001b[39m-\u001b[39mq\n",
      "File \u001b[0;32m~/opt/anaconda3/lib/python3.9/site-packages/scipy/stats/_distn_infrastructure.py:1963\u001b[0m, in \u001b[0;36mrv_continuous.cdf\u001b[0;34m(self, x, *args, **kwds)\u001b[0m\n\u001b[1;32m   1961\u001b[0m \u001b[39mif\u001b[39;00m np\u001b[39m.\u001b[39many(cond):  \u001b[39m# call only if at least 1 entry\u001b[39;00m\n\u001b[1;32m   1962\u001b[0m     goodargs \u001b[39m=\u001b[39m argsreduce(cond, \u001b[39m*\u001b[39m((x,)\u001b[39m+\u001b[39margs))\n\u001b[0;32m-> 1963\u001b[0m     place(output, cond, \u001b[39mself\u001b[39;49m\u001b[39m.\u001b[39;49m_cdf(\u001b[39m*\u001b[39;49mgoodargs))\n\u001b[1;32m   1964\u001b[0m \u001b[39mif\u001b[39;00m output\u001b[39m.\u001b[39mndim \u001b[39m==\u001b[39m \u001b[39m0\u001b[39m:\n\u001b[1;32m   1965\u001b[0m     \u001b[39mreturn\u001b[39;00m output[()]\n",
      "File \u001b[0;32m~/opt/anaconda3/lib/python3.9/site-packages/scipy/stats/_distn_infrastructure.py:1840\u001b[0m, in \u001b[0;36mrv_continuous._cdf\u001b[0;34m(self, x, *args)\u001b[0m\n\u001b[1;32m   1839\u001b[0m \u001b[39mdef\u001b[39;00m \u001b[39m_cdf\u001b[39m(\u001b[39mself\u001b[39m, x, \u001b[39m*\u001b[39margs):\n\u001b[0;32m-> 1840\u001b[0m     \u001b[39mreturn\u001b[39;00m \u001b[39mself\u001b[39;49m\u001b[39m.\u001b[39;49m_cdfvec(x, \u001b[39m*\u001b[39;49margs)\n",
      "File \u001b[0;32m~/opt/anaconda3/lib/python3.9/site-packages/numpy/lib/function_base.py:2163\u001b[0m, in \u001b[0;36mvectorize.__call__\u001b[0;34m(self, *args, **kwargs)\u001b[0m\n\u001b[1;32m   2160\u001b[0m     vargs \u001b[39m=\u001b[39m [args[_i] \u001b[39mfor\u001b[39;00m _i \u001b[39min\u001b[39;00m inds]\n\u001b[1;32m   2161\u001b[0m     vargs\u001b[39m.\u001b[39mextend([kwargs[_n] \u001b[39mfor\u001b[39;00m _n \u001b[39min\u001b[39;00m names])\n\u001b[0;32m-> 2163\u001b[0m \u001b[39mreturn\u001b[39;00m \u001b[39mself\u001b[39;49m\u001b[39m.\u001b[39;49m_vectorize_call(func\u001b[39m=\u001b[39;49mfunc, args\u001b[39m=\u001b[39;49mvargs)\n",
      "File \u001b[0;32m~/opt/anaconda3/lib/python3.9/site-packages/numpy/lib/function_base.py:2246\u001b[0m, in \u001b[0;36mvectorize._vectorize_call\u001b[0;34m(self, func, args)\u001b[0m\n\u001b[1;32m   2243\u001b[0m \u001b[39m# Convert args to object arrays first\u001b[39;00m\n\u001b[1;32m   2244\u001b[0m inputs \u001b[39m=\u001b[39m [asanyarray(a, dtype\u001b[39m=\u001b[39m\u001b[39mobject\u001b[39m) \u001b[39mfor\u001b[39;00m a \u001b[39min\u001b[39;00m args]\n\u001b[0;32m-> 2246\u001b[0m outputs \u001b[39m=\u001b[39m ufunc(\u001b[39m*\u001b[39;49minputs)\n\u001b[1;32m   2248\u001b[0m \u001b[39mif\u001b[39;00m ufunc\u001b[39m.\u001b[39mnout \u001b[39m==\u001b[39m \u001b[39m1\u001b[39m:\n\u001b[1;32m   2249\u001b[0m     res \u001b[39m=\u001b[39m asanyarray(outputs, dtype\u001b[39m=\u001b[39motypes[\u001b[39m0\u001b[39m])\n",
      "File \u001b[0;32m~/opt/anaconda3/lib/python3.9/site-packages/scipy/stats/_distn_infrastructure.py:1837\u001b[0m, in \u001b[0;36mrv_continuous._cdf_single\u001b[0;34m(self, x, *args)\u001b[0m\n\u001b[1;32m   1835\u001b[0m \u001b[39mdef\u001b[39;00m \u001b[39m_cdf_single\u001b[39m(\u001b[39mself\u001b[39m, x, \u001b[39m*\u001b[39margs):\n\u001b[1;32m   1836\u001b[0m     _a, _b \u001b[39m=\u001b[39m \u001b[39mself\u001b[39m\u001b[39m.\u001b[39m_get_support(\u001b[39m*\u001b[39margs)\n\u001b[0;32m-> 1837\u001b[0m     \u001b[39mreturn\u001b[39;00m integrate\u001b[39m.\u001b[39;49mquad(\u001b[39mself\u001b[39;49m\u001b[39m.\u001b[39;49m_pdf, _a, x, args\u001b[39m=\u001b[39;49margs)[\u001b[39m0\u001b[39m]\n",
      "File \u001b[0;32m~/opt/anaconda3/lib/python3.9/site-packages/scipy/integrate/quadpack.py:351\u001b[0m, in \u001b[0;36mquad\u001b[0;34m(func, a, b, args, full_output, epsabs, epsrel, limit, points, weight, wvar, wopts, maxp1, limlst)\u001b[0m\n\u001b[1;32m    348\u001b[0m flip, a, b \u001b[39m=\u001b[39m b \u001b[39m<\u001b[39m a, \u001b[39mmin\u001b[39m(a, b), \u001b[39mmax\u001b[39m(a, b)\n\u001b[1;32m    350\u001b[0m \u001b[39mif\u001b[39;00m weight \u001b[39mis\u001b[39;00m \u001b[39mNone\u001b[39;00m:\n\u001b[0;32m--> 351\u001b[0m     retval \u001b[39m=\u001b[39m _quad(func, a, b, args, full_output, epsabs, epsrel, limit,\n\u001b[1;32m    352\u001b[0m                    points)\n\u001b[1;32m    353\u001b[0m \u001b[39melse\u001b[39;00m:\n\u001b[1;32m    354\u001b[0m     \u001b[39mif\u001b[39;00m points \u001b[39mis\u001b[39;00m \u001b[39mnot\u001b[39;00m \u001b[39mNone\u001b[39;00m:\n",
      "File \u001b[0;32m~/opt/anaconda3/lib/python3.9/site-packages/scipy/integrate/quadpack.py:463\u001b[0m, in \u001b[0;36m_quad\u001b[0;34m(func, a, b, args, full_output, epsabs, epsrel, limit, points)\u001b[0m\n\u001b[1;32m    461\u001b[0m \u001b[39mif\u001b[39;00m points \u001b[39mis\u001b[39;00m \u001b[39mNone\u001b[39;00m:\n\u001b[1;32m    462\u001b[0m     \u001b[39mif\u001b[39;00m infbounds \u001b[39m==\u001b[39m \u001b[39m0\u001b[39m:\n\u001b[0;32m--> 463\u001b[0m         \u001b[39mreturn\u001b[39;00m _quadpack\u001b[39m.\u001b[39;49m_qagse(func,a,b,args,full_output,epsabs,epsrel,limit)\n\u001b[1;32m    464\u001b[0m     \u001b[39melse\u001b[39;00m:\n\u001b[1;32m    465\u001b[0m         \u001b[39mreturn\u001b[39;00m _quadpack\u001b[39m.\u001b[39m_qagie(func,bound,infbounds,args,full_output,epsabs,epsrel,limit)\n",
      "File \u001b[0;32m~/MSci Project/network_stats.py:180\u001b[0m, in \u001b[0;36mweight_distribution._pdf\u001b[0;34m(self, x, fit)\u001b[0m\n\u001b[1;32m    179\u001b[0m \u001b[39mdef\u001b[39;00m \u001b[39m_pdf\u001b[39m(\u001b[39mself\u001b[39m, x, fit):\n\u001b[0;32m--> 180\u001b[0m     \u001b[39mreturn\u001b[39;00m weight_func(x, \u001b[39m*\u001b[39mfit)\n",
      "\u001b[0;31mTypeError\u001b[0m: Value after * must be an iterable, not float"
     ]
    }
   ],
   "source": [
    "import matplotlib.pyplot as plt\n",
    "\n",
    "wfit, _ = ns.check_fit(ns.weight_func, ns.log_binning, weights, [scale, False])\n",
    "\n",
    "sample_dist = ns.weight_distribution(a = 0)\n",
    "#sample_dist.pdf(fit)\n",
    "samples = sample_dist.rvs(fit = wfit, size = 2)\n",
    "samples = np.ceil(samples)\n",
    "freqs, edegs, _ = plt.hist(samples, bins = 50, density = 0)"
   ]
  },
  {
   "cell_type": "code",
   "execution_count": null,
   "metadata": {},
   "outputs": [
    {
     "name": "stdout",
     "output_type": "stream",
     "text": [
      "3\n"
     ]
    }
   ],
   "source": [
    "a =[1, 2, 3, 0]\n",
    "b = a.index(min(a))\n",
    "print(b)"
   ]
  }
 ],
 "metadata": {
  "kernelspec": {
   "display_name": "base",
   "language": "python",
   "name": "python3"
  },
  "language_info": {
   "codemirror_mode": {
    "name": "ipython",
    "version": 3
   },
   "file_extension": ".py",
   "mimetype": "text/x-python",
   "name": "python",
   "nbconvert_exporter": "python",
   "pygments_lexer": "ipython3",
   "version": "3.9.12"
  },
  "orig_nbformat": 4,
  "vscode": {
   "interpreter": {
    "hash": "25e1ce75cfb12f047913573b7bc7a98ece3d58460e313b6b0bb12faf016c0990"
   }
  }
 },
 "nbformat": 4,
 "nbformat_minor": 2
}
