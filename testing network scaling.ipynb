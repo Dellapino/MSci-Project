{
 "cells": [
  {
   "cell_type": "code",
   "execution_count": 38,
   "metadata": {},
   "outputs": [],
   "source": [
    "import network_manipulation as nm\n",
    "import network_stats as ns\n",
    "import numpy as np\n",
    "\n",
    "dataset_paths = [\n",
    "'Sociopatterns datasets/conference_2009.dat_',\n",
    "'Sociopatterns datasets/highschool_2011.csv',\n",
    "'Sociopatterns datasets/highschool_2012.csv',\n",
    "'Sociopatterns datasets/highschool_2013.csv',\n",
    "'Sociopatterns datasets/hospital_2010.dat_',\n",
    "'Sociopatterns datasets/primaryschool_2014.csv',\n",
    "'Sociopatterns datasets/workplace_2013.dat',\n",
    "'Sociopatterns datasets/workplace_2015.dat_']\n",
    "\n",
    "dataset_names = [\n",
    "    'Conference 1', \n",
    "    'Highschool 1', \n",
    "    'Highschool 2', \n",
    "    'Highschool 3', \n",
    "    'Hospital 1', \n",
    "    'Primaryschool 1', \n",
    "    'Workplace 1', \n",
    "    'Workplace 2']"
   ]
  },
  {
   "cell_type": "code",
   "execution_count": 55,
   "metadata": {},
   "outputs": [
    {
     "name": "stdout",
     "output_type": "stream",
     "text": [
      "Normalised weights\n",
      "[69, 82, 60, 95, 38]\n",
      "[0.013934426229508197, 0.001639344262295082, 0.000819672131147541, 0.02540983606557377, 0.003278688524590164]\n",
      "\n",
      " Free weights\n",
      "[69, 82, 60, 95, 38]\n",
      "[17, 2, 1, 31, 4]\n"
     ]
    },
    {
     "data": {
      "text/plain": [
       "(array([58., 94., 98., 64., 44., 23., 11.,  6.,  0.,  5.]),\n",
       " array([  1. ,  17.8,  34.6,  51.4,  68.2,  85. , 101.8, 118.6, 135.4,\n",
       "        152.2, 169. ]),\n",
       " <BarContainer object of 10 artists>)"
      ]
     },
     "execution_count": 55,
     "metadata": {},
     "output_type": "execute_result"
    },
    {
     "data": {
      "image/png": "[encoded data removed]",
      "text/plain": [
       "<Figure size 432x288 with 1 Axes>"
      ]
     },
     "metadata": {
      "needs_background": "light"
     },
     "output_type": "display_data"
    },
    {
     "data": {
      "image/png": "[encoded data removed]",
      "text/plain": [
       "<Figure size 432x288 with 1 Axes>"
      ]
     },
     "metadata": {
      "needs_background": "light"
     },
     "output_type": "display_data"
    }
   ],
   "source": [
    "H = nm.build_nxgraph(dataset_paths[0], True)\n",
    "\n",
    "norm_degrees, norm_weights = ns.analyse_graph(H)\n",
    "print('Normalised weights')\n",
    "print(norm_degrees[0:5])\n",
    "print(norm_weights[0:5])\n",
    "\n",
    "G = nm.build_nxgraph(dataset_paths[0], False) \n",
    "\n",
    "degrees, weights = ns.analyse_graph(G)\n",
    "\n",
    "print('\\n Free weights') # gym joke haha\n",
    "print(degrees[0:5])\n",
    "print(weights[0:5])\n",
    "\n",
    "path = dataset_paths[0]\n",
    "n = nm.build_network(path)\n",
    "dd = nm.degree_dist(n)\n",
    "\n",
    "plt.figure()\n",
    "plt.hist(dd)\n",
    "plt.figure()\n",
    "plt.hist(degrees)\n"
   ]
  },
  {
   "cell_type": "code",
   "execution_count": 40,
   "metadata": {},
   "outputs": [
    {
     "data": {
      "image/png": "[encoded data removed]",
      "text/plain": [
       "<Figure size 432x288 with 1 Axes>"
      ]
     },
     "metadata": {
      "needs_background": "light"
     },
     "output_type": "display_data"
    },
    {
     "data": {
      "text/plain": [
       "(array([ 1.60159911e+04, -8.08602749e-01]), array([4.26929428, 2.54719899]))"
      ]
     },
     "execution_count": 40,
     "metadata": {},
     "output_type": "execute_result"
    }
   ],
   "source": [
    "ns.check_fit(ns.weight_func, ns.log_binning, weights, [2.97, False] , False, True, 'log')\n"
   ]
  },
  {
   "cell_type": "code",
   "execution_count": 41,
   "metadata": {},
   "outputs": [
    {
     "data": {
      "text/plain": [
       "41.0"
      ]
     },
     "execution_count": 41,
     "metadata": {},
     "output_type": "execute_result"
    }
   ],
   "source": [
    "(47+35)/2"
   ]
  },
  {
   "cell_type": "code",
   "execution_count": 42,
   "metadata": {},
   "outputs": [
    {
     "name": "stdout",
     "output_type": "stream",
     "text": [
      "  best scaling factor    best average error\n",
      "---------------------  --------------------\n",
      "                  2.8                  4.23\n"
     ]
    },
    {
     "data": {
      "text/plain": [
       "(2.800000000000001, 4.227722840657332)"
      ]
     },
     "execution_count": 42,
     "metadata": {},
     "output_type": "execute_result"
    }
   ],
   "source": [
    "scaly = np.arange(1.5, 3.1, 0.1)\n",
    "ns.compare_scale(ns.weight_func, weights, scaly, False, False)"
   ]
  },
  {
   "cell_type": "code",
   "execution_count": 43,
   "metadata": {},
   "outputs": [
    {
     "name": "stdout",
     "output_type": "stream",
     "text": [
      "  best scaling factor    best average error\n",
      "---------------------  --------------------\n",
      "                 2.97                  3.41\n"
     ]
    }
   ],
   "source": [
    "scaly = np.arange(2.8, 3.0, 0.01)\n",
    "scale, _ = ns.compare_scale(ns.weight_func, weights, scaly, False, False)"
   ]
  },
  {
   "cell_type": "code",
   "execution_count": 44,
   "metadata": {},
   "outputs": [
    {
     "data": {
      "image/png": "[encoded data removed]",
      "text/plain": [
       "<Figure size 432x288 with 1 Axes>"
      ]
     },
     "metadata": {
      "needs_background": "light"
     },
     "output_type": "display_data"
    }
   ],
   "source": [
    "import matplotlib.pyplot as plt\n",
    "\n",
    "wfit, _ = ns.check_fit(ns.weight_func, ns.log_binning, weights, [scale, False])\n",
    "\n",
    "sample_dist = ns.weight_distribution(a = 0)\n",
    "samples = sample_dist.rvs( a = wfit[0] ,b = wfit[1], size = 1000)\n",
    "freqs, edges, _ = plt.hist(samples, bins = 20, density = 0)\n",
    "plt.yscale('log')\n",
    "plt.xscale('log')\n",
    "\n",
    "# While I managing to generate a distribution, unfortunately the weights are\n",
    "# on the order e-10 where i expected whole numbers as I am working in an \n",
    "# un-normalized regime\n",
    "\n",
    "# further, there are some parameter combinations, which can cause a lack of\n",
    "# convegence and hence a lack of a distribution, this can occur for the supposeded\n",
    "# optimum scale,"
   ]
  },
  {
   "cell_type": "code",
   "execution_count": 45,
   "metadata": {},
   "outputs": [
    {
     "name": "stdout",
     "output_type": "stream",
     "text": [
      "  best scaling factor    best average error\n",
      "---------------------  --------------------\n",
      "                  2.4                  4.96\n"
     ]
    },
    {
     "name": "stderr",
     "output_type": "stream",
     "text": [
      "/Users/ali/MSci Project/network_stats.py:97: RuntimeWarning: divide by zero encountered in true_divide\n",
      "  return (x**a) / np.exp(b*x+c)\n",
      "/Users/ali/MSci Project/network_stats.py:97: RuntimeWarning: overflow encountered in true_divide\n",
      "  return (x**a) / np.exp(b*x+c)\n",
      "/Users/ali/MSci Project/network_stats.py:97: RuntimeWarning: overflow encountered in power\n",
      "  return (x**a) / np.exp(b*x+c)\n"
     ]
    },
    {
     "data": {
      "text/plain": [
       "(2.400000000000001, 4.956134815843278)"
      ]
     },
     "execution_count": 45,
     "metadata": {},
     "output_type": "execute_result"
    }
   ],
   "source": [
    "scaly = np.arange(1.5, 3.1, 0.1)\n",
    "ns.compare_scale(ns.degree_func, degrees, scaly, False, False)"
   ]
  },
  {
   "cell_type": "code",
   "execution_count": 46,
   "metadata": {},
   "outputs": [
    {
     "name": "stdout",
     "output_type": "stream",
     "text": [
      "  best scaling factor    best average error\n",
      "---------------------  --------------------\n",
      "                 2.39                  4.76\n"
     ]
    }
   ],
   "source": [
    "scaly = np.arange(2.2, 2.4, 0.01)\n",
    "scale, _ = ns.compare_scale(ns.degree_func, degrees, scaly, False, False)"
   ]
  },
  {
   "cell_type": "code",
   "execution_count": 47,
   "metadata": {},
   "outputs": [
    {
     "data": {
      "image/png": "[encoded data removed]",
      "text/plain": [
       "<Figure size 432x288 with 1 Axes>"
      ]
     },
     "metadata": {
      "needs_background": "light"
     },
     "output_type": "display_data"
    }
   ],
   "source": [
    "dfit, _ = ns.check_fit(ns.degree_func, ns.linear_binning, degrees, [8, False])\n",
    "\n",
    "sample_dist = ns.degree_distribution(a = 0)\n",
    "samples = sample_dist.rvs(a = dfit[0], b = dfit[1], c = dfit[2], size = 1000)\n",
    "freqs, edges, _ = plt.hist(samples, bins = 20, density = 0)\n",
    "#plt.yscale('log')\n",
    "#plt.xscale('log')\n",
    "\n",
    "# for some reason the generated distribution, which was previously perfirming well\n",
    "# has now completely cahnged form"
   ]
  },
  {
   "cell_type": "code",
   "execution_count": 48,
   "metadata": {},
   "outputs": [
    {
     "data": {
      "text/plain": [
       "array([ 1.4670777 ,  0.05026528, -1.39019974])"
      ]
     },
     "execution_count": 48,
     "metadata": {},
     "output_type": "execute_result"
    }
   ],
   "source": [
    "dfit"
   ]
  },
  {
   "cell_type": "code",
   "execution_count": 49,
   "metadata": {},
   "outputs": [
    {
     "name": "stdout",
     "output_type": "stream",
     "text": [
      "3\n"
     ]
    }
   ],
   "source": [
    "a =[1, 2, 3, 0]\n",
    "b = a.index(min(a))\n",
    "print(b)"
   ]
  }
 ],
 "metadata": {
  "kernelspec": {
   "display_name": "base",
   "language": "python",
   "name": "python3"
  },
  "language_info": {
   "codemirror_mode": {
    "name": "ipython",
    "version": 3
   },
   "file_extension": ".py",
   "mimetype": "text/x-python",
   "name": "python",
   "nbconvert_exporter": "python",
   "pygments_lexer": "ipython3",
   "version": "3.9.12"
  },
  "orig_nbformat": 4,
  "vscode": {
   "interpreter": {
    "hash": "25e1ce75cfb12f047913573b7bc7a98ece3d58460e313b6b0bb12faf016c0990"
   }
  }
 },
 "nbformat": 4,
 "nbformat_minor": 2
}
