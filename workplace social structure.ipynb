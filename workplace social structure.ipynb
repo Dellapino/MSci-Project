{
 "cells": [
  {
   "cell_type": "markdown",
   "metadata": {},
   "source": [
    "Testing notebook to quickly prototype ideas and a keep a log of progress iA"
   ]
  },
  {
   "cell_type": "markdown",
   "metadata": {},
   "source": [
    "Data from: http://www.sociopatterns.org/datasets/contacts-in-a-workplace/"
   ]
  },
  {
   "cell_type": "markdown",
   "metadata": {},
   "source": [
    "Code from: https://github.com/iaciac/higher-order-NG"
   ]
  },
  {
   "cell_type": "code",
   "execution_count": 1,
   "metadata": {},
   "outputs": [],
   "source": [
    "import numpy as np\n",
    "from scipy import random\n",
    "import networkx as nx\n",
    "import pandas as pd\n",
    "import random\n",
    "import collections\n",
    "import matplotlib.pyplot as plt\n",
    "import os\n",
    "import json\n",
    "from time import time\n",
    "%matplotlib inline"
   ]
  },
  {
   "cell_type": "code",
   "execution_count": 2,
   "metadata": {},
   "outputs": [],
   "source": [
    "datasetlist = ['InVS']"
   ]
  },
  {
   "cell_type": "code",
   "execution_count": 3,
   "metadata": {},
   "outputs": [],
   "source": [
    "def extract_networks(data_dir, dataset, n_minutes=5, original_nets=True):\n",
    "    \"\"\"Function that reads the edgelist (t, i, j) and returns\n",
    "    a network aggregated at n_minutes snapshots as a dictionary of nx.Graph()s,\n",
    "    having t as a key.\n",
    "    If original_nets is set to True it also returns the original non-aggregated network.\"\"\"\n",
    "    \n",
    "    #Reading the data and setting t0\n",
    "    f = open(data_dir+'/tij_' + dataset +'.dat')\n",
    "    (t0,i,j) = map(int,str.split(f.readline()))\n",
    "    #Special temporal scale for these two Datasets\n",
    "    if dataset not in ['LyonSchool','LH10']:\n",
    "        t0 = t0*20\n",
    "    f.close()\n",
    "    \n",
    "    #Aggregation on scale of x minutes\n",
    "    delta_t = 20*3*n_minutes;   \n",
    "    if original_nets==True:\n",
    "        originalnetworks = {}\n",
    "    aggnetworks = {}\n",
    "    f = open(data_dir+'/tij_' + dataset +'.dat')\n",
    "    for line in f:\n",
    "        (t,i,j) = map(int,str.split(line))\n",
    "        #Special temporal scale for these two Datasets\n",
    "        if dataset not in ['LyonSchool','LH10']:\n",
    "            t = t*20\n",
    "        if original_nets==True:\n",
    "            if t not in originalnetworks:\n",
    "                originalnetworks[t] = nx.Graph()\n",
    "            originalnetworks[t].add_edge(i,j)\n",
    "        #this is a trick using the integer division in python\n",
    "        aggtime = t0 + ((t-t0)/delta_t)*delta_t \n",
    "        if aggtime not in aggnetworks:\n",
    "            aggnetworks[aggtime] = nx.Graph()\n",
    "        aggnetworks[aggtime].add_edge(i,j)\n",
    "    f.close();\n",
    "    if original_nets==True:\n",
    "        return originalnetworks, aggnetworks;\n",
    "    else:\n",
    "        return aggnetworks;"
   ]
  },
  {
   "cell_type": "code",
   "execution_count": 4,
   "metadata": {},
   "outputs": [],
   "source": [
    "def extract_cliques(gs):\n",
    "    listsaggcliques = {}\n",
    "    #looping over the networks in temporal order\n",
    "    for t in sorted(gs.keys()):\n",
    "        listsaggcliques[t] = list(nx.find_cliques(gs[t]));\n",
    "    #returning a dictionary with list of cliques as values\n",
    "    return listsaggcliques;"
   ]
  },
  {
   "cell_type": "code",
   "execution_count": 5,
   "metadata": {},
   "outputs": [],
   "source": [
    "def clique_weights(cliques):\n",
    "    from collections import Counter;\n",
    "    tot_c = [];\n",
    "    for t in cliques:\n",
    "        tot_c.extend(map(frozenset,cliques[t]))\n",
    "    return Counter(tot_c);"
   ]
  },
  {
   "cell_type": "code",
   "execution_count": 6,
   "metadata": {},
   "outputs": [],
   "source": [
    "def average_clique_size(ws):\n",
    "    return np.sum(map(lambda x: 1.0 * ws[x] * len(x), ws.keys()))/np.sum(ws.values());"
   ]
  },
  {
   "cell_type": "code",
   "execution_count": 7,
   "metadata": {},
   "outputs": [],
   "source": [
    "def clean_non_maximal(ws):\n",
    "    sd = dict(zip(ws.keys(), map(len,ws.keys())));\n",
    "    import operator\n",
    "    sizes = set(map(len,ws.keys()));\n",
    "    sorted_sd = sorted(sd.items(), key=operator.itemgetter(1));\n",
    "    simplices = dict.fromkeys(list(sizes),[]);\n",
    "    maximal_simplices = {};\n",
    "    for x in ws:\n",
    "        maximal = True;\n",
    "        for xx in ws:\n",
    "            if (len(x)<len(xx)):\n",
    "                if (set(x)<set(xx)):\n",
    "                    maximal=False;\n",
    "                    break;\n",
    "        if maximal:\n",
    "            maximal_simplices[x] = ws[x];\n",
    "    return maximal_simplices;"
   ]
  },
  {
   "cell_type": "code",
   "execution_count": 8,
   "metadata": {},
   "outputs": [],
   "source": [
    "def save_cliques(ws, data_dir, dataset,n_minutes, thr=None):\n",
    "    if thr==None:\n",
    "        ls = map(list,ws.keys());\n",
    "    else:\n",
    "        ls = [list(x) for x in ws if ws[x]>=thr];\n",
    "    jd = open(data_dir+'aggr_'+str(n_minutes)+'min_cliques_thr'+str(thr)+'_'+dataset+'.json','w')\n",
    "    json.dump(ls,jd)\n",
    "    jd.close()\n",
    "    return;"
   ]
  },
  {
   "cell_type": "code",
   "execution_count": 9,
   "metadata": {},
   "outputs": [],
   "source": [
    "dataset_dir = '/Users/ali/MSci Project/sociopatterns datasets/'\n",
    "out_dir = '/Users/ali/MSci Project/social structure graph data/'\n",
    "\n",
    "datasets = ['InVS']\n",
    "\n",
    "n_minutes = 15\n",
    "thrs = [1,3,5]\n",
    "\n",
    "for dataset in datasets:\n",
    "    for thr in thrs:\n",
    "        aggs = extract_networks(dataset_dir, dataset, n_minutes, original_nets=False);\n",
    "        cliques = extract_cliques(aggs)\n",
    "        ws = clique_weights(cliques);\n",
    "        maximal_cliques = clean_non_maximal(ws);\n",
    "        save_cliques(maximal_cliques, out_dir, dataset, n_minutes, thr=thr)"
   ]
  },
  {
   "cell_type": "code",
   "execution_count": 10,
   "metadata": {},
   "outputs": [
    {
     "name": "stdout",
     "output_type": "stream",
     "text": [
      "7104\n",
      "7104\n",
      "788\n",
      "687\n"
     ]
    }
   ],
   "source": [
    "print(len(aggs))\n",
    "print(len(cliques))\n",
    "print(len(ws))\n",
    "print(len(maximal_cliques))"
   ]
  },
  {
   "cell_type": "code",
   "execution_count": 11,
   "metadata": {},
   "outputs": [],
   "source": [
    "keys = maximal_cliques.keys()\n",
    "weights = maximal_cliques.values()\n",
    "\n",
    "weights = list(weights)\n",
    "#weights = np.array(weights) / max(weights)\n",
    "\n",
    "edges = []\n",
    "keys = list(keys)\n",
    "for i in range(len(keys)):\n",
    "    key = list(keys[i])\n",
    "    edges.append((key[0], key[1], weights[i]))"
   ]
  },
  {
   "cell_type": "markdown",
   "metadata": {},
   "source": [
    "Used open in browser extension to run the html generated by the pyvis package in browser.\n",
    "\n",
    "The graph is based on dataset of time spent face to face with other people, with a resolution of 20 seconds. This has been aaggregated into 15 minute chunks and any cliques found have been taken to be representitive of relationships and are then plotted with along with the strength of interaction."
   ]
  },
  {
   "cell_type": "code",
   "execution_count": 12,
   "metadata": {},
   "outputs": [],
   "source": [
    "from pyvis.network import Network\n",
    "\n",
    "net2 = Network()\n",
    "for node in edges:\n",
    "    net2.add_node(node[0])\n",
    "    net2.add_node(node[1])\n",
    "    net2.add_edge(node[0], node[1],value = node[2])\n",
    "net2.repulsion()\n",
    "#net2.toggle_physics(False)\n",
    "net2.show('high school.html')"
   ]
  },
  {
   "cell_type": "code",
   "execution_count": null,
   "metadata": {},
   "outputs": [],
   "source": []
  }
 ],
 "metadata": {
  "kernelspec": {
   "display_name": "Python 3",
   "language": "python",
   "name": "python3"
  },
  "language_info": {
   "codemirror_mode": {
    "name": "ipython",
    "version": 3
   },
   "file_extension": ".py",
   "mimetype": "text/x-python",
   "name": "python",
   "nbconvert_exporter": "python",
   "pygments_lexer": "ipython3",
   "version": "3.9.6 (default, Sep 26 2022, 11:37:49) \n[Clang 14.0.0 (clang-1400.0.29.202)]"
  },
  "orig_nbformat": 4,
  "vscode": {
   "interpreter": {
    "hash": "31f2aee4e71d21fbe5cf8b01ff0e069b9275f58929596ceb00d14d90e3e16cd6"
   }
  }
 },
 "nbformat": 4,
 "nbformat_minor": 2
}
