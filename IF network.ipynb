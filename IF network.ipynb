{
 "cells": [
  {
   "cell_type": "markdown",
   "metadata": {},
   "source": [
    "Simple neuron netowrk model based on \"simple model of spiking neurons\""
   ]
  },
  {
   "cell_type": "code",
   "execution_count": 39,
   "metadata": {},
   "outputs": [],
   "source": [
    "import numpy as np\n",
    "import json\n",
    "import time\n",
    "import random\n",
    "import matplotlib.pyplot as plt\n",
    "import networkx as nx\n",
    "from PIL import Image\n",
    "import glob\n",
    "import os"
   ]
  },
  {
   "cell_type": "code",
   "execution_count": 40,
   "metadata": {},
   "outputs": [],
   "source": [
    "threshold = 5\n",
    "strength = 1\n",
    "decay = 0.6\n",
    "\n",
    "name = '/Users/ali/MSci Project/social structure graph data/aggr_15min_cliques_thr5_InVS.json'\n",
    "\n",
    "def create_graph(name):\n",
    "    g = open(name)\n",
    "    G = json.load(g)\n",
    "    G.sort()\n",
    "    return G\n",
    "\n",
    "def intitialise_potential(N):\n",
    "    P = {} # another graph to keep track of potential\n",
    "    nodes = N.keys()\n",
    "    for node in nodes:\n",
    "        P[node] = random.randint(0,threshold) # keeps track of potential, initialised at 0\n",
    "    return P\n",
    "\n",
    "def propagate(P, N): # need to tranmit signal to connected nodes based on strenght of connection, currently unweighted\n",
    "    nodes = list(N.keys())\n",
    "    connections = list(N.values())\n",
    "    potentials = list(P.values())\n",
    "    size = len(N)\n",
    "    F = np.zeros(size)\n",
    "    for i in range(size): # loop over every node and check if firing\n",
    "        if potentials[i] >= threshold:\n",
    "            F[i] = 1\n",
    "            for connection in connections[i]: # list of all nodes needing update\n",
    "                P[connection] += strength\n",
    "            P[nodes[i]] = 0\n",
    "        if potentials[i] > decay:\n",
    "            P[nodes[i]] -= decay\n",
    "    return P, F\n",
    "\n",
    "def simulate(N, P, T):\n",
    "    activity = []\n",
    "    for t in range(T):\n",
    "        #time.sleep(1)\n",
    "        P, F = propagate(P, N)\n",
    "        #print('t = ' + str(t) + ', fired = ' + str(fired))\n",
    "        activity.append(sum(F))\n",
    "    return activity\n",
    "\n",
    "def plot(N, P, T, layout = 'spring'):\n",
    "    files = glob.glob('/Users/ali/MSci Project/IF visualisation/frame*.png')\n",
    "    for f in files:\n",
    "        os.remove(f)\n",
    "\n",
    "    H = nx.Graph(N)\n",
    "\n",
    "    if layout == 'spring':\n",
    "        positions = nx.spring_layout(H)\n",
    "    elif layout == 'kamada':\n",
    "        positions = nx.kamada_kawai_layout(H)\n",
    "    else:\n",
    "        positions = nx.kamada_kawai_layout(H)\n",
    "        \n",
    "    plt.figure()\n",
    "    for t in range(T):\n",
    "        P, F = propagate(P, N)\n",
    "        colours = []\n",
    "        for i in range(len(H)):\n",
    "            if F[i] == 1:\n",
    "                colours.append('yellow')\n",
    "            else:\n",
    "                colours.append('grey')\n",
    "        plt.clf()\n",
    "        #time.sleep(0.5)\n",
    "        nx.draw_networkx(H, pos = positions, with_labels = False, node_size = 50, node_color = colours, alpha = 0.5)\n",
    "        plt.savefig('/Users/ali/MSci Project/IF visualisation/frame' + str(t))\n",
    "        \n",
    "def make_gif(dur):\n",
    "    frames = []\n",
    "    imgs = glob.glob('/Users/ali/MSci Project/IF visualisation/frame*.png')\n",
    "    for i in imgs:\n",
    "        new_frame = Image.open(i)\n",
    "        frames.append(new_frame)\n",
    "        \n",
    "    frames[0].save('/Users/ali/MSci Project/IF visualisation.gif', format='GIF',\n",
    "                append_images=frames[1:],\n",
    "                save_all=True,\n",
    "                duration=dur)\n",
    "\n",
    "    "
   ]
  },
  {
   "cell_type": "code",
   "execution_count": 144,
   "metadata": {},
   "outputs": [
    {
     "name": "stdout",
     "output_type": "stream",
     "text": [
      "[[15, 223], [17, 66], [17, 102], [17, 335], [17, 762], [17, 804], [17, 875], [29, 39], [29, 662], [35, 268], [48, 179], [50, 119], [50, 311], [50, 762], [50, 771], [56, 29], [56, 132], [56, 205], [56, 819], [56, 939], [66, 102], [79, 39], [80, 50], [80, 102], [80, 222], [80, 285], [80, 311], [80, 494], [80, 765], [80, 875], [95, 39], [95, 223], [101, 511], [102, 335], [105, 113], [105, 181], [105, 513], [113, 242], [113, 513], [113, 939], [116, 335], [119, 335], [120, 29], [120, 95], [120, 172], [120, 196], [120, 253], [120, 494], [120, 765], [120, 819], [122, 79], [122, 154], [122, 271], [122, 533], [123, 39], [123, 79], [123, 150], [123, 164, 253], [123, 172], [123, 222], [123, 311], [123, 845], [131, 804], [131, 845], [132, 79], [132, 164], [132, 172], [134, 431], [153, 63], [153, 122], [153, 150], [153, 154], [153, 492], [153, 533], [153, 709], [154, 271], [154, 492], [154, 499], [172, 196], [172, 311], [179, 101], [179, 102], [179, 804], [184, 118], [184, 253], [184, 255], [184, 845], [185, 265], [194, 95], [194, 311], [194, 765], [194, 786], [194, 804], [196, 205], [196, 223], [196, 311], [205, 39], [205, 223], [205, 311], [205, 662], [209, 66], [210, 35], [211, 116], [211, 213], [222, 79], [222, 95], [240, 50], [240, 119], [240, 431], [240, 804], [240, 938], [253, 15], [253, 79], [255, 743], [265, 35], [265, 87], [265, 211], [265, 743], [265, 804], [265, 826], [267, 211], [268, 222], [268, 255], [268, 845], [273, 268], [273, 743], [275, 119], [275, 431], [275, 804], [275, 845], [285, 431], [311, 255], [448, 119], [448, 122], [448, 481], [448, 533], [481, 63], [481, 150], [481, 709], [492, 63], [492, 271], [496, 205], [496, 222], [496, 223], [496, 267, 311], [499, 63], [499, 150], [499, 271], [499, 533], [513, 181], [533, 63], [533, 119], [533, 150], [533, 271], [533, 709], [601, 150], [601, 153], [601, 271], [601, 492], [601, 533], [601, 709], [603, 95], [603, 164], [662, 95], [709, 150], [709, 271], [762, 116], [762, 119], [762, 134], [762, 150], [762, 285], [762, 335], [762, 511], [762, 771], [762, 875], [765, 494], [771, 119], [771, 335], [778, 211], [778, 268], [778, 751], [778, 804], [778, 826], [778, 845], [778, 875], [779, 29], [779, 39], [779, 172], [779, 819], [784, 134], [784, 431], [784, 743], [784, 762], [786, 311], [786, 765], [791, 223], [804, 79], [804, 118], [804, 119], [804, 150], [804, 181], [804, 255], [804, 511], [804, 845], [819, 29], [819, 95], [819, 196], [819, 223], [819, 311], [819, 662], [819, 939], [819, 987], [826, 35], [826, 131], [826, 268], [826, 743], [875, 101], [875, 285], [938, 804], [939, 196], [939, 205], [939, 223], [987, 164]]\n"
     ]
    }
   ],
   "source": [
    "G = create_graph('/Users/ali/MSci Project/social structure graph data/aggr_15min_cliques_thr5_InVS.json')\n",
    "print(G)\n",
    "#print(type(G))"
   ]
  },
  {
   "cell_type": "code",
   "execution_count": 145,
   "metadata": {},
   "outputs": [
    {
     "name": "stdout",
     "output_type": "stream",
     "text": [
      "['101', '102', '105', '113', '116', '118', '119', '120', '122', '123', '131', '132', '134', '15', '150', '153', '154', '164', '17', '172', '179', '181', '184', '185', '194', '196', '205', '209', '210', '211', '213', '222', '223', '240', '242', '253', '255', '265', '267', '268', '271', '273', '275', '285', '29', '311', '335', '35', '39', '431', '448', '48', '481', '492', '494', '496', '499', '50', '511', '513', '533', '56', '601', '603', '63', '66', '662', '709', '743', '751', '762', '765', '771', '778', '779', '784', '786', '79', '791', '80', '804', '819', '826', '845', '87', '875', '938', '939', '95', '987']\n",
      "90\n"
     ]
    }
   ],
   "source": [
    "edges = []\n",
    "for i in range(len(G)): # inefficient\n",
    "    edges.append(tuple((str(G[i][0]), str(G[i][1]))))\n",
    "\n",
    "#print(edges)\n",
    "\n",
    "unique_nodes = []\n",
    "for i in G:\n",
    "    for j in i:\n",
    "        j = str(j)\n",
    "        if j in unique_nodes:\n",
    "            continue\n",
    "        else:\n",
    "            unique_nodes.append(j)\n",
    "    \n",
    "unique_nodes.sort()\n",
    "print(unique_nodes)\n",
    "print(len(unique_nodes))"
   ]
  },
  {
   "cell_type": "code",
   "execution_count": null,
   "metadata": {},
   "outputs": [],
   "source": []
  },
  {
   "cell_type": "code",
   "execution_count": 137,
   "metadata": {},
   "outputs": [],
   "source": [
    "def EdgeListtoAdjMat(V,E):\n",
    "    GA = {}\n",
    "    for a, b in E:\n",
    "        GA.setdefault(a, []).append(b)\n",
    "        GA.setdefault(b, []).append(a)\n",
    "    for v in V:\n",
    "        if v not in GA:\n",
    "            GA[v] = []\n",
    "    return GA"
   ]
  },
  {
   "cell_type": "code",
   "execution_count": 146,
   "metadata": {},
   "outputs": [
    {
     "name": "stdout",
     "output_type": "stream",
     "text": [
      "{'15': ['223', '253'], '223': ['15', '95', '196', '205', '496', '791', '819', '939'], '17': ['66', '102', '335', '762', '804', '875'], '66': ['17', '102', '209'], '102': ['17', '66', '80', '335', '179'], '335': ['17', '102', '116', '119', '762', '771'], '762': ['17', '50', '116', '119', '134', '150', '285', '335', '511', '771', '875', '784'], '804': ['17', '131', '179', '194', '240', '265', '275', '778', '79', '118', '119', '150', '181', '255', '511', '845', '938'], '875': ['17', '80', '762', '778', '101', '285'], '29': ['39', '662', '56', '120', '779', '819'], '39': ['29', '79', '95', '123', '205', '779'], '662': ['29', '205', '95', '819'], '35': ['268', '210', '265', '826'], '268': ['35', '222', '255', '845', '273', '778', '826'], '48': ['179'], '179': ['48', '101', '102', '804'], '50': ['119', '311', '762', '771', '80', '240'], '119': ['50', '335', '240', '275', '448', '533', '762', '771', '804'], '311': ['50', '80', '123', '172', '194', '196', '205', '255', '786', '819'], '771': ['50', '762', '119', '335'], '56': ['29', '132', '205', '819', '939'], '132': ['56', '79', '164', '172'], '205': ['56', '196', '39', '223', '311', '662', '496', '939'], '819': ['56', '120', '779', '29', '95', '196', '223', '311', '662', '939', '987'], '939': ['56', '113', '819', '196', '205', '223'], '79': ['39', '122', '123', '132', '222', '253', '804'], '80': ['50', '102', '222', '285', '311', '494', '765', '875'], '222': ['80', '123', '79', '95', '268', '496'], '285': ['80', '431', '762', '875'], '494': ['80', '120', '765'], '765': ['80', '120', '194', '494', '786'], '95': ['39', '223', '120', '194', '222', '603', '662', '819'], '101': ['511', '179', '875'], '511': ['101', '762', '804'], '105': ['113', '181', '513'], '113': ['105', '242', '513', '939'], '181': ['105', '513', '804'], '513': ['105', '113', '181'], '242': ['113'], '116': ['335', '211', '762'], '120': ['29', '95', '172', '196', '253', '494', '765', '819'], '172': ['120', '123', '132', '196', '311', '779'], '196': ['120', '172', '205', '223', '311', '819', '939'], '253': ['120', '184', '15', '79'], '122': ['79', '154', '271', '533', '153', '448'], '154': ['122', '153', '271', '492', '499'], '271': ['122', '154', '492', '499', '533', '601', '709'], '533': ['122', '153', '448', '499', '63', '119', '150', '271', '709', '601'], '123': ['39', '79', '150', '164', '172', '222', '311', '845'], '150': ['123', '153', '481', '499', '533', '601', '709', '762', '804'], '164': ['123', '132', '603', '987'], '845': ['123', '131', '184', '268', '275', '778', '804'], '131': ['804', '845', '826'], '134': ['431', '762', '784'], '431': ['134', '240', '275', '285', '784'], '153': ['63', '122', '150', '154', '492', '533', '709', '601'], '63': ['153', '481', '492', '499', '533'], '492': ['153', '154', '63', '271', '601'], '709': ['153', '481', '533', '601', '150', '271'], '499': ['154', '63', '150', '271', '533'], '184': ['118', '253', '255', '845'], '118': ['184', '804'], '255': ['184', '743', '268', '311', '804'], '185': ['265'], '265': ['185', '35', '87', '211', '743', '804', '826'], '194': ['95', '311', '765', '786', '804'], '786': ['194', '311', '765'], '209': ['66'], '210': ['35'], '211': ['116', '213', '265', '267', '778'], '213': ['211'], '240': ['50', '119', '431', '804', '938'], '938': ['240', '804'], '743': ['255', '265', '273', '784', '826'], '87': ['265'], '826': ['265', '778', '35', '131', '268', '743'], '267': ['211', '496'], '273': ['268', '743'], '275': ['119', '431', '804', '845'], '448': ['119', '122', '481', '533'], '481': ['448', '63', '150', '709'], '496': ['205', '222', '223', '267'], '601': ['150', '153', '271', '492', '533', '709'], '603': ['95', '164'], '778': ['211', '268', '751', '804', '826', '845', '875'], '751': ['778'], '779': ['29', '39', '172', '819'], '784': ['134', '431', '743', '762'], '791': ['223'], '987': ['819', '164']}\n"
     ]
    },
    {
     "data": {
      "text/plain": [
       "90"
      ]
     },
     "execution_count": 146,
     "metadata": {},
     "output_type": "execute_result"
    }
   ],
   "source": [
    "N = EdgeListtoAdjMat(unique_nodes,edges) # adjacency dictionary representation\n",
    "print(N)\n",
    "len(N)"
   ]
  },
  {
   "cell_type": "code",
   "execution_count": 58,
   "metadata": {},
   "outputs": [
    {
     "ename": "NameError",
     "evalue": "name 'P' is not defined",
     "output_type": "error",
     "traceback": [
      "\u001b[0;31m---------------------------------------------------------------------------\u001b[0m",
      "\u001b[0;31mNameError\u001b[0m                                 Traceback (most recent call last)",
      "\u001b[1;32m/Users/ali/MSci Project/IF network.ipynb Cell 8\u001b[0m in \u001b[0;36m<cell line: 1>\u001b[0;34m()\u001b[0m\n\u001b[0;32m----> <a href='vscode-notebook-cell:/Users/ali/MSci%20Project/IF%20network.ipynb#X10sZmlsZQ%3D%3D?line=0'>1</a>\u001b[0m activity \u001b[39m=\u001b[39m simulate(N, P, \u001b[39m100000\u001b[39m)\n\u001b[1;32m      <a href='vscode-notebook-cell:/Users/ali/MSci%20Project/IF%20network.ipynb#X10sZmlsZQ%3D%3D?line=2'>3</a>\u001b[0m plt\u001b[39m.\u001b[39mplot(activity)\n\u001b[1;32m      <a href='vscode-notebook-cell:/Users/ali/MSci%20Project/IF%20network.ipynb#X10sZmlsZQ%3D%3D?line=3'>4</a>\u001b[0m plt\u001b[39m.\u001b[39mylabel(\u001b[39m'\u001b[39m\u001b[39mactivity\u001b[39m\u001b[39m'\u001b[39m)\n",
      "\u001b[0;31mNameError\u001b[0m: name 'P' is not defined"
     ]
    }
   ],
   "source": [
    "activity = simulate(N, P, 100000)\n",
    "\n",
    "plt.plot(activity)\n",
    "plt.ylabel('activity')\n",
    "plt.xlabel('time')"
   ]
  },
  {
   "cell_type": "markdown",
   "metadata": {},
   "source": [
    "Next steps:\n",
    "    visualisation of neurons firing (snapshot or evolution)"
   ]
  },
  {
   "cell_type": "code",
   "execution_count": 59,
   "metadata": {},
   "outputs": [
    {
     "ename": "TypeError",
     "evalue": "intitialise_potential() missing 1 required positional argument: 'initial'",
     "output_type": "error",
     "traceback": [
      "\u001b[0;31m---------------------------------------------------------------------------\u001b[0m",
      "\u001b[0;31mTypeError\u001b[0m                                 Traceback (most recent call last)",
      "\u001b[1;32m/Users/ali/MSci Project/IF network.ipynb Cell 10\u001b[0m in \u001b[0;36m<cell line: 2>\u001b[0;34m()\u001b[0m\n\u001b[1;32m      <a href='vscode-notebook-cell:/Users/ali/MSci%20Project/IF%20network.ipynb#X12sZmlsZQ%3D%3D?line=0'>1</a>\u001b[0m scale \u001b[39m=\u001b[39m \u001b[39m1000\u001b[39m\n\u001b[0;32m----> <a href='vscode-notebook-cell:/Users/ali/MSci%20Project/IF%20network.ipynb#X12sZmlsZQ%3D%3D?line=1'>2</a>\u001b[0m P \u001b[39m=\u001b[39m intitialise_potential(N)\n\u001b[1;32m      <a href='vscode-notebook-cell:/Users/ali/MSci%20Project/IF%20network.ipynb#X12sZmlsZQ%3D%3D?line=2'>3</a>\u001b[0m plot(N, P, scale)\n\u001b[1;32m      <a href='vscode-notebook-cell:/Users/ali/MSci%20Project/IF%20network.ipynb#X12sZmlsZQ%3D%3D?line=3'>4</a>\u001b[0m make_gif(\u001b[39mint\u001b[39m(scale \u001b[39m/\u001b[39m \u001b[39m100\u001b[39m))\n",
      "\u001b[0;31mTypeError\u001b[0m: intitialise_potential() missing 1 required positional argument: 'initial'"
     ]
    }
   ],
   "source": [
    "scale = 1000\n",
    "P = intitialise_potential(N)\n",
    "plot(N, P, scale)\n",
    "make_gif(int(scale / 100))"
   ]
  },
  {
   "cell_type": "markdown",
   "metadata": {},
   "source": [
    "Next steps:\n",
    "- make function to generate N\n",
    "- find edge weights\n",
    "- replicate above for weighted graph"
   ]
  },
  {
   "attachments": {},
   "cell_type": "markdown",
   "metadata": {},
   "source": [
    "Improvements:\n",
    "    Colour map representation of network\n",
    "    Implement weights (not present in current .json file, will need to look at network generation file)\n",
    "    Implement epidemic models\n",
    "    Compare to differential equation models to find optimal parameters\n",
    "    Vary parameters to see what effect there is"
   ]
  },
  {
   "attachments": {},
   "cell_type": "markdown",
   "metadata": {},
   "source": [
    "Epidemic models:\n",
    "    SI - nodes fire once and remain as emitters after this fact\n",
    "    SIR - nodes remain firing for a certain amount of time then become immune\n",
    "    SIS - nodes fire for a certain time then become susceptible again.\n",
    "    SIRS - nodes remain firing for a time, then become immune for a time, then become susceptible again."
   ]
  },
  {
   "cell_type": "code",
   "execution_count": 337,
   "metadata": {},
   "outputs": [],
   "source": [
    "# SI model \n",
    "\n",
    "def intitialise_potential(N, initial): # initial defines the fraction of populations that is initially infected\n",
    "    P = {} # another graph to keep track of potential\n",
    "    nodes = N.keys()\n",
    "    for node in nodes:\n",
    "        if random.random() < initial:\n",
    "            P[node] = threshold\n",
    "        else:\n",
    "            P[node] = 0\n",
    "    return P\n",
    "\n",
    "def propagate_SI(P, N): # need to account for beta in model!!!\n",
    "    threshold = 10\n",
    "    strength = 1\n",
    "    beta = 0.6\n",
    "    connections = list(N.values())\n",
    "    potentials = list(P.values())\n",
    "    size = len(N)\n",
    "    F = np.zeros(size)\n",
    "    for i in range(size): # loop over every node and check if firing\n",
    "        if potentials[i] >= threshold:\n",
    "            if np.random.random() < beta:\n",
    "                F[i] = 1\n",
    "        for connection in connections[i]: # list of all nodes needing update\n",
    "            if np.random.random() < beta: #0.6 is placeholder value for beta\n",
    "                P[connection] += strength\n",
    "    return P, F\n",
    "\n",
    "def propagate_SI(P, N):\n",
    "    threshold = 2\n",
    "    strength = 1\n",
    "    beta = 0.6\n",
    "    connections = list(N.values())\n",
    "    potentials = list(P.values())\n",
    "    size = len(N)\n",
    "    F = np.zeros(size)\n",
    "    for i in range(size):\n",
    "        if potentials[i] >= threshold:\n",
    "            F[i] = 1\n",
    "            for connection in connections[i]:\n",
    "                if np.random.random() < beta:\n",
    "                    P[connection] += strength\n",
    "    #print(sum(F))\n",
    "    return P, F\n",
    "\n",
    "def simulate_SI(N, P, T, h):\n",
    "    size = len(N)\n",
    "    activity = []\n",
    "    #limit = int(T//h) + 1\n",
    "    limit = T \n",
    "    for t in range(limit):\n",
    "        #time.sleep(1)\n",
    "        P, F = propagate_SI(P, N)\n",
    "        #print('t = ' + str(t) + ', fired = ' + str(fired))\n",
    "        activity.append(sum(F) / size)\n",
    "    return activity\n",
    "\n",
    "def smooth_SI(N, I, T, M, h): # M is number of runs over which to smooth over\n",
    "    runs = []\n",
    "    limit = int(T//h) + 1\n",
    "    limit = T\n",
    "    for i in range(M):\n",
    "        P = intitialise_potential(N, I)\n",
    "        run = simulate_SI(N, P, T, h)\n",
    "        runs.append(run)\n",
    "    smoothed = []\n",
    "    for i in range(limit):\n",
    "        total = 0\n",
    "        for j in range(M):\n",
    "            total += runs[j][i]     \n",
    "        total = total / M   \n",
    "        smoothed.append(total)\n",
    "    return smoothed"
   ]
  },
  {
   "cell_type": "code",
   "execution_count": 225,
   "metadata": {},
   "outputs": [],
   "source": [
    "# Numerical SI\n",
    "\n",
    "def SI_diff(initial, beta, T, h): # differential equation representing si model with N total nodes\n",
    "    I = initial # intial fraction of infected population\n",
    "    spread = []\n",
    "    limit = int(T//h) + 1\n",
    "    for t in range(limit): # can also run until population is fully infected\n",
    "        I_new = h * beta * I * (1 - I) + I# taking N = 1 as total population\n",
    "        I = I_new\n",
    "        spread.append(I_new)\n",
    "    return spread"
   ]
  },
  {
   "cell_type": "code",
   "execution_count": 226,
   "metadata": {},
   "outputs": [],
   "source": [
    "# Analytical SI\n",
    "\n",
    "def analytic_sol(x, beta, c):\n",
    "    return np.exp(beta*x+c) / (1 + np.exp(beta*x+c))\n",
    "\n",
    "def integration_const(I):\n",
    "    return np.log(I/(1-I))\n",
    "\n",
    "def generate_t(T, h): # generates time axis from 0 to T with increments of h\n",
    "    return np.arange(0, T, h)"
   ]
  },
  {
   "cell_type": "code",
   "execution_count": 472,
   "metadata": {},
   "outputs": [],
   "source": [
    "# Creating large network\n",
    "\n",
    "def avg_degree_intel(graph_dict):\n",
    "    size = len(graph_dict)\n",
    "    nodes = list(graph_dict.keys())\n",
    "    degree_dist = []\n",
    "    for i in range(size):\n",
    "        degree_dist.append(len(graph_dict[nodes[i]]))\n",
    "    avg_degree = sum(degree_dist) / size\n",
    "    std_degree = np.std(degree_dist)\n",
    "    return avg_degree, std_degree\n",
    "        \n",
    "def generate_degree_dist(avg, std, length):\n",
    "    degree_dist = []\n",
    "    while len(degree_dist) < length - 1:\n",
    "        degree = round(np.random.normal(avg, std))\n",
    "        if degree >= 0:\n",
    "            degree_dist.append(degree)\n",
    "    if sum(degree_dist) % 2 == 1:\n",
    "        while True:\n",
    "            degree = round(np.random.normal(avg, std))\n",
    "            if degree % 2 == 1:\n",
    "                degree_dist.append(degree)\n",
    "                break\n",
    "    else:\n",
    "        while True:\n",
    "            degree = round(np.random.normal(avg, std))\n",
    "            if degree % 2 == 0:\n",
    "                degree_dist.append(degree)\n",
    "                break\n",
    "    return degree_dist\n",
    "\n",
    "def generate_large_graph(graph_dict, scale, seed = None): # generates a graph with self loops but should not be a problem as an infected node cannot become any more infected that it already is however this may cause poor representation of graph connections, but this is only a problem for small graphs, so should hold for at least SI model in large graph limit\n",
    "    a, s = avg_degree_intel(graph_dict)\n",
    "    d = generate_degree_dist(a, s, scale)\n",
    "    g = nx.configuration_model(d, nx.Graph, seed)\n",
    "    return g\n",
    "\n",
    "def adjacency_dict(nx_graph):\n",
    "    keys = list(nx_graph.nodes())\n",
    "    adjacency_dict = {}\n",
    "    for i in range(len(keys)):\n",
    "        adjacency_dict[keys[i]] = [n for n in nx_graph.neighbors(keys[i])]\n",
    "    return adjacency_dict\n",
    "\n",
    "network = generate_large_graph(N, 10000)\n",
    "nx.draw(network)\n",
    "network = adjacency_dict(network)   "
   ]
  },
  {
   "cell_type": "code",
   "execution_count": 473,
   "metadata": {},
   "outputs": [
    {
     "data": {
      "image/png": "[encoded data removed]",
      "text/plain": [
       "<Figure size 432x288 with 1 Axes>"
      ]
     },
     "metadata": {
      "needs_background": "light"
     },
     "output_type": "display_data"
    }
   ],
   "source": [
    "# Comparing model with solution\n",
    "\n",
    "T = 30 # days over which we simulate\n",
    "h = 0.1 # time increment\n",
    "I = 0.05 # initial infected fraction\n",
    "b = 0.6 # transmission rate of contagion\n",
    "M = 100 # number of runs to smooth model over\n",
    "c = integration_const(I)\n",
    "t = generate_t(T, h)\n",
    "\n",
    "model_SI = smooth_SI(network, I, T, M, h) # takes T as input needs to be consistent with analytical\n",
    "#model_SI.append(1) # temporary fix to make dimension of x and y match for plotting\n",
    "\n",
    "numerical_SI = SI_diff(I, b, T, h) # takes T as input be careful\n",
    "#numerical_SI.append(1)\n",
    "\n",
    "analytic_SI = analytic_sol(t, b, c) # should be correct ...\n",
    "\n",
    "plt.plot(t, analytic_SI, label = 'Analytical')\n",
    "plt.plot(t, numerical_SI, label = 'Numerical')\n",
    "\n",
    "t = generate_t(T, 1)\n",
    "plt.plot(t, model_SI, label = 'Model')\n",
    "\n",
    "plt.legend(loc = 'lower right')\n",
    "plt.title('Epidemic spread in SI model comparison')\n",
    "plt.show()\n",
    "\n",
    "'''\n",
    "Even after building a large network with ~ O(5) nodes we still see the finite size effect near the start\n",
    "and that the model converges to a value less than 1. This is unexpected and could be an indication of a flaw in\n",
    "executing the model. Further the curves do no match up, this can be resolved by tweaking the threshold, strength\n",
    "and pershaps the way time is iterated in the model. Should use curve_fit to find optimal thresold and strength\n",
    "parameters.\n",
    "\n",
    "But is it worth doing that? If the threshold and strength are dependent on beta all the time then its not worth\n",
    "it as this initial testing is just a baseline to see if the IF model is working and then it will be applied to\n",
    "various scenarios. \n",
    "\n",
    "This will require testing.\n",
    "'''"
   ]
  },
  {
   "attachments": {},
   "cell_type": "markdown",
   "metadata": {},
   "source": [
    "PROBLEM: dimensions of numerical solution not consistnent with others.\n",
    "\n",
    "TEMPORARY FIX: manually added an element to array with y-vals.\n",
    "\n",
    "SOLUTION: added on to limit when calculating how many point to simulate."
   ]
  },
  {
   "attachments": {},
   "cell_type": "markdown",
   "metadata": {},
   "source": [
    "PROBLEM: Lack of consistency between numerical and analytical\n",
    "\n",
    "SOLVED: changed parameters to be the same for both and now see good agreement visually\n",
    "\n",
    "CONCLUSION: numerical solution has been coded correctly"
   ]
  },
  {
   "attachments": {},
   "cell_type": "markdown",
   "metadata": {},
   "source": [
    "TO DO:\n",
    "    - Plots comparing different combinations of threshold and strength"
   ]
  },
  {
   "attachments": {},
   "cell_type": "markdown",
   "metadata": {},
   "source": [
    "MEETING:\n",
    "\n",
    " - Discuss propagation algorithm\n",
    "\n",
    " - Discuss graph features"
   ]
  },
  {
   "cell_type": "code",
   "execution_count": 334,
   "metadata": {},
   "outputs": [
    {
     "data": {
      "image/png": "[encoded data removed]",
      "text/plain": [
       "<Figure size 432x288 with 1 Axes>"
      ]
     },
     "metadata": {},
     "output_type": "display_data"
    }
   ],
   "source": [
    "def plot_SI(N, P, T, layout = 'spring'):\n",
    "    files = glob.glob('/Users/ali/MSci Project/IF visualisation/frame*.png')\n",
    "    for f in files:\n",
    "        os.remove(f)\n",
    "\n",
    "    H = nx.Graph(N)\n",
    "\n",
    "    if layout == 'spring':\n",
    "        positions = nx.spring_layout(H)\n",
    "    elif layout == 'kamada':\n",
    "        positions = nx.kamada_kawai_layout(H)\n",
    "    else:\n",
    "        positions = nx.kamada_kawai_layout(H)\n",
    "        \n",
    "    plt.figure()\n",
    "    for t in range(T):\n",
    "        P, F = propagate_SI(P, N)\n",
    "        colours = []\n",
    "        for i in range(len(H)):\n",
    "            if F[i] == 1:\n",
    "                colours.append('yellow')\n",
    "            else:\n",
    "                colours.append('grey')\n",
    "        plt.clf()\n",
    "        #time.sleep(0.5)\n",
    "        nx.draw_networkx(H, pos = positions, with_labels = False, node_size = 50, node_color = colours, alpha = 0.5)\n",
    "        plt.savefig('/Users/ali/MSci Project/IF visualisation/frame' + str(t))\n",
    "        \n",
    "        \n",
    "#scale = 1000\n",
    "P = intitialise_potential(N, I)\n",
    "plot_SI(N, P, T)\n",
    "#make_gif(int(scale / 100))\n",
    "make_gif(50)"
   ]
  },
  {
   "attachments": {},
   "cell_type": "markdown",
   "metadata": {},
   "source": [
    "ISSUE: Network has too few nodes to give good results."
   ]
  },
  {
   "attachments": {},
   "cell_type": "markdown",
   "metadata": {},
   "source": [
    "NEXT: Fit differential equation to model or fit model to differential equation? will depend if I have a known value of beta, right now both the equation and the model are using values pulled from thin air."
   ]
  },
  {
   "cell_type": "code",
   "execution_count": 49,
   "metadata": {},
   "outputs": [
    {
     "ename": "NameError",
     "evalue": "name 'smoothed_SI' is not defined",
     "output_type": "error",
     "traceback": [
      "\u001b[0;31m---------------------------------------------------------------------------\u001b[0m",
      "\u001b[0;31mNameError\u001b[0m                                 Traceback (most recent call last)",
      "\u001b[1;32m/Users/ali/MSci Project/IF network.ipynb Cell 21\u001b[0m in \u001b[0;36m<cell line: 10>\u001b[0;34m()\u001b[0m\n\u001b[1;32m      <a href='vscode-notebook-cell:/Users/ali/MSci%20Project/IF%20network.ipynb#X26sZmlsZQ%3D%3D?line=6'>7</a>\u001b[0m         I_old \u001b[39m=\u001b[39m I_new\n\u001b[1;32m      <a href='vscode-notebook-cell:/Users/ali/MSci%20Project/IF%20network.ipynb#X26sZmlsZQ%3D%3D?line=7'>8</a>\u001b[0m     \u001b[39mreturn\u001b[39;00m I_old\n\u001b[0;32m---> <a href='vscode-notebook-cell:/Users/ali/MSci%20Project/IF%20network.ipynb#X26sZmlsZQ%3D%3D?line=9'>10</a>\u001b[0m smoothed_SI \u001b[39m=\u001b[39m np\u001b[39m.\u001b[39marray(smoothed_SI)\n\u001b[1;32m     <a href='vscode-notebook-cell:/Users/ali/MSci%20Project/IF%20network.ipynb#X26sZmlsZQ%3D%3D?line=11'>12</a>\u001b[0m popt, pcov \u001b[39m=\u001b[39m curve_fit(SI, t, smoothed_SI)\n",
      "\u001b[0;31mNameError\u001b[0m: name 'smoothed_SI' is not defined"
     ]
    }
   ],
   "source": [
    "from scipy.optimize import curve_fit\n",
    "\n",
    "def SI(time, beta, h):\n",
    "    I_old = 0.05\n",
    "    for i in range(time):\n",
    "        I_new = h * beta * I_old * (1 - I_old) + I_old\n",
    "        I_old = I_new\n",
    "    return I_old\n",
    "\n",
    "smoothed_SI = np.array(smoothed_SI)\n",
    "\n",
    "popt, pcov = curve_fit(SI, t, smoothed_SI)"
   ]
  },
  {
   "cell_type": "code",
   "execution_count": null,
   "metadata": {},
   "outputs": [
    {
     "data": {
      "text/plain": [
       "numpy.ndarray"
      ]
     },
     "execution_count": 53,
     "metadata": {},
     "output_type": "execute_result"
    }
   ],
   "source": [
    "type(t)"
   ]
  },
  {
   "cell_type": "code",
   "execution_count": 50,
   "metadata": {},
   "outputs": [
    {
     "ename": "NameError",
     "evalue": "name 'smoothed_SI' is not defined",
     "output_type": "error",
     "traceback": [
      "\u001b[0;31m---------------------------------------------------------------------------\u001b[0m",
      "\u001b[0;31mNameError\u001b[0m                                 Traceback (most recent call last)",
      "\u001b[1;32m/Users/ali/MSci Project/IF network.ipynb Cell 23\u001b[0m in \u001b[0;36m<cell line: 1>\u001b[0;34m()\u001b[0m\n\u001b[0;32m----> <a href='vscode-notebook-cell:/Users/ali/MSci%20Project/IF%20network.ipynb#X31sZmlsZQ%3D%3D?line=0'>1</a>\u001b[0m \u001b[39mtype\u001b[39m(smoothed_SI)\n",
      "\u001b[0;31mNameError\u001b[0m: name 'smoothed_SI' is not defined"
     ]
    }
   ],
   "source": [
    "type(smoothed_SI)"
   ]
  },
  {
   "attachments": {},
   "cell_type": "markdown",
   "metadata": {},
   "source": [
    "Solve SI DE for an analytical solution and then try to get IF model working for differient epidemic models"
   ]
  },
  {
   "cell_type": "markdown",
   "metadata": {},
   "source": []
  }
 ],
 "metadata": {
  "kernelspec": {
   "display_name": "base",
   "language": "python",
   "name": "python3"
  },
  "language_info": {
   "codemirror_mode": {
    "name": "ipython",
    "version": 3
   },
   "file_extension": ".py",
   "mimetype": "text/x-python",
   "name": "python",
   "nbconvert_exporter": "python",
   "pygments_lexer": "ipython3",
   "version": "3.9.12 (main, Apr  5 2022, 01:53:17) \n[Clang 12.0.0 ]"
  },
  "orig_nbformat": 4,
  "vscode": {
   "interpreter": {
    "hash": "25e1ce75cfb12f047913573b7bc7a98ece3d58460e313b6b0bb12faf016c0990"
   }
  }
 },
 "nbformat": 4,
 "nbformat_minor": 2
}
